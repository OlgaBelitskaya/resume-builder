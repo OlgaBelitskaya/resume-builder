{
 "cells": [
  {
   "cell_type": "markdown",
   "metadata": {},
   "source": [
    "# Udacity CAREER DEVELOPMENT"
   ]
  },
  {
   "cell_type": "markdown",
   "metadata": {
    "outputExpanded": false
   },
   "source": [
    "## &#x1F3E2; &nbsp; Technical Interview Practice. Project\n",
    "\n",
    "### &#x1F4D1; &nbsp; Links\n",
    "#### Classes (python): https://docs.python.org/3.3/tutorial/classes.html\n",
    "#### Data structures: https://docs.python.org/2/tutorial/datastructures.html\n",
    "#### Merge Sort: http://algs4.cs.princeton.edu/22mergesort/\n",
    "#### Quick Sort: http://algs4.cs.princeton.edu/23quicksort/\n",
    "#### Visualising data structures and algorithms through animation: https://visualgo.net/\n",
    "#### Problem Solving with Algorithms and Data Structures using Python: https://interactivepython.org/runestone/static/pythonds/index.html\n",
    "#### Functional Programming HOWTO: https://docs.python.org/3.6/howto/functional.html\n",
    "#### Python 3 hashlib: https://docs.python.org/3/library/hashlib.html\n",
    "#### Quicksort with Python: http://stackoverflow.com/questions/18262306/quicksort-with-python\n",
    "#### Tree Terminology: http://btechsmartclass.com/DS/U3_T1.html\n",
    "#### Tree Traversal: https://www.tutorialspoint.com/data_structures_algorithms/tree_traversal.htm"
   ]
  },
  {
   "cell_type": "markdown",
   "metadata": {
    "collapsed": true
   },
   "source": [
    "###  &#x1F4D1; &nbsp; Question 1\n",
    "Given two strings s and t, determine whether some anagram of t is a substring of s.\n",
    "\n",
    "For example: if s = \"udacity\" and t = \"ad\", then the function returns True.\n",
    "\n",
    "Your function definition should look like: question1(s, t) and return a boolean True or False."
   ]
  },
  {
   "cell_type": "code",
   "execution_count": null,
   "metadata": {
    "collapsed": true
   },
   "outputs": [],
   "source": [
    "def question1(s, t):\n",
    "    "
   ]
  },
  {
   "cell_type": "markdown",
   "metadata": {
    "collapsed": true
   },
   "source": [
    "###  &#x1F4D1; &nbsp; Question 2\n",
    "Given a string a, find the longest palindromic substring contained in a.\n",
    "\n",
    "Your function definition should look like question2(a), and return a string."
   ]
  },
  {
   "cell_type": "code",
   "execution_count": null,
   "metadata": {
    "collapsed": true,
    "outputExpanded": false
   },
   "outputs": [],
   "source": [
    "def question2(a):\n",
    "    "
   ]
  },
  {
   "cell_type": "markdown",
   "metadata": {
    "collapsed": true,
    "outputExpanded": false
   },
   "source": [
    "###  &#x1F4D1; &nbsp; Question 3\n",
    "Given an undirected graph G, find the minimum spanning tree within G.\n",
    "\n",
    "A minimum spanning tree connects all vertices in a graph with the smallest possible total weight of edges. \n",
    "\n",
    "Your function should take in and return an adjacency list structured like this:\n",
    "\n",
    "Vertices are represented as unique strings. The function definition should be question3(G)"
   ]
  },
  {
   "cell_type": "code",
   "execution_count": null,
   "metadata": {
    "collapsed": true,
    "outputExpanded": false
   },
   "outputs": [],
   "source": [
    "{'A': [('B', 2)],\n",
    " 'B': [('A', 2), ('C', 5)], \n",
    " 'C': [('B', 5)]}"
   ]
  },
  {
   "cell_type": "code",
   "execution_count": null,
   "metadata": {
    "collapsed": true,
    "outputExpanded": false
   },
   "outputs": [],
   "source": [
    "def question3(G):\n",
    "    "
   ]
  },
  {
   "cell_type": "markdown",
   "metadata": {
    "collapsed": true,
    "outputExpanded": false
   },
   "source": [
    "###  &#x1F4D1; &nbsp; Question 4\n",
    "Find the least common ancestor between two nodes on a binary search tree. \n",
    "\n",
    "The least common ancestor is the farthest node from the root that is an ancestor of both nodes. \n",
    "\n",
    "For example, the root is a common ancestor of all nodes on the tree, \n",
    "\n",
    "but if both nodes are descendents of the root's left child, \n",
    "\n",
    "then that left child might be the lowest common ancestor. You can assume that both nodes are in the tree, \n",
    "\n",
    "and the tree itself adheres to all BST properties. \n",
    "\n",
    "The function definition should look like question4(T, r, n1, n2), \n",
    "\n",
    "where T is the tree represented as a matrix, \n",
    "\n",
    "where the index of the list is equal to the integer stored in that node and a 1 represents a child node, \n",
    "\n",
    "r is a non-negative integer representing the root, \n",
    "\n",
    "and n1 and n2 are non-negative integers representing the two nodes in no particular order. \n",
    "\n",
    "For example, one test case might be"
   ]
  },
  {
   "cell_type": "code",
   "execution_count": null,
   "metadata": {
    "collapsed": true
   },
   "outputs": [],
   "source": [
    "question4([[0, 1, 0, 0, 0],\n",
    "           [0, 0, 0, 0, 0],\n",
    "           [0, 0, 0, 0, 0],\n",
    "           [1, 0, 0, 0, 1],\n",
    "           [0, 0, 0, 0, 0]],\n",
    "          3,\n",
    "          1,\n",
    "          4)"
   ]
  },
  {
   "cell_type": "markdown",
   "metadata": {
    "collapsed": true,
    "outputExpanded": false
   },
   "source": [
    "and the answer would be 3."
   ]
  },
  {
   "cell_type": "code",
   "execution_count": null,
   "metadata": {
    "collapsed": true
   },
   "outputs": [],
   "source": []
  },
  {
   "cell_type": "markdown",
   "metadata": {},
   "source": [
    "###  &#x1F4D1; &nbsp; Question 5\n",
    "Find the element in a singly linked list that's m elements from the end. \n",
    "\n",
    "For example, if a linked list has 5 elements, the 3rd element from the end is the 3rd element. \n",
    "\n",
    "The function definition should look like question5(ll, m), \n",
    "\n",
    "where ll is the first node of a linked list and m is the \"mth number from the end\".\n",
    "\n",
    "You should copy/paste the Node class below to use as a representation of a node in the linked list. \n",
    "\n",
    "Return the value of the node at that position."
   ]
  },
  {
   "cell_type": "code",
   "execution_count": null,
   "metadata": {
    "collapsed": true
   },
   "outputs": [],
   "source": [
    "class Node(object):\n",
    "  def __init__(self, data):\n",
    "    self.data = data\n",
    "    self.next = None"
   ]
  },
  {
   "cell_type": "code",
   "execution_count": null,
   "metadata": {
    "collapsed": true
   },
   "outputs": [],
   "source": []
  }
 ],
 "metadata": {
  "anaconda-cloud": {},
  "gist_id": "c302dd3875a0e05c4c4d39ce3796cb78",
  "hide_input": false,
  "kernel_info": {
   "name": "python3"
  },
  "kernelspec": {
   "display_name": "Python [conda root]",
   "language": "python",
   "name": "conda-root-py"
  },
  "language_info": {
   "codemirror_mode": {
    "name": "ipython",
    "version": 3
   },
   "file_extension": ".py",
   "mimetype": "text/x-python",
   "name": "python",
   "nbconvert_exporter": "python",
   "pygments_lexer": "ipython3",
   "version": "3.5.2"
  },
  "latex_envs": {
   "bibliofile": "biblio.bib",
   "cite_by": "apalike",
   "current_citInitial": 1,
   "eqLabelWithNumbers": true,
   "eqNumInitial": 0
  }
 },
 "nbformat": 4,
 "nbformat_minor": 2
}
