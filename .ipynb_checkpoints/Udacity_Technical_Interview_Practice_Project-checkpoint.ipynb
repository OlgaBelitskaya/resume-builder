{
 "cells": [
  {
   "cell_type": "markdown",
   "metadata": {
    "outputExpanded": false
   },
   "source": [
    "# Udacity CAREER DEVELOPMENT"
   ]
  },
  {
   "cell_type": "markdown",
   "metadata": {
    "outputExpanded": false
   },
   "source": [
    "## &#x1F3E2; &nbsp; Technical Interview Practice. Project\n",
    "\n",
    "### &#x1F4D1; &nbsp; Links\n",
    "#### Classes (python): https://docs.python.org/3.3/tutorial/classes.html\n",
    "#### Data structures: https://docs.python.org/2/tutorial/datastructures.html\n",
    "#### Problem Solving with Algorithms and Data Structures using Python: https://interactivepython.org/runestone/static/pythonds/index.html\n",
    "#### NetworkX: https://networkx.github.io/documentation/networkx-1.10/overview.html"
   ]
  },
  {
   "cell_type": "markdown",
   "metadata": {
    "collapsed": true,
    "outputExpanded": false
   },
   "source": [
    "###  &#x1F4D1; &nbsp; Question 1\n",
    "Given two strings s and t, determine whether some anagram of t is a substring of s.\n",
    "\n",
    "For example: if s = \"udacity\" and t = \"ad\", then the function returns True.\n",
    "\n",
    "Your function definition should look like: question1(s, t) and return a boolean True or False."
   ]
  },
  {
   "cell_type": "markdown",
   "metadata": {},
   "source": [
    "###  &#x1F4D1; &nbsp; Solution 1"
   ]
  },
  {
   "cell_type": "code",
   "execution_count": 2,
   "metadata": {
    "collapsed": false,
    "outputExpanded": false
   },
   "outputs": [],
   "source": [
    "import numpy as np\n",
    "def question1(s, t):\n",
    "    result = True\n",
    "    for element in list(t):\n",
    "        boolean = element in list(s)\n",
    "#        print (boolean)\n",
    "        result = np.logical_and(result, boolean)\n",
    "    return result"
   ]
  },
  {
   "cell_type": "markdown",
   "metadata": {},
   "source": [
    "### &#x1F52C; &nbsp; Test 1"
   ]
  },
  {
   "cell_type": "code",
   "execution_count": 3,
   "metadata": {
    "collapsed": false
   },
   "outputs": [
    {
     "name": "stdout",
     "output_type": "stream",
     "text": [
      "cit in udacity : True\n",
      "ad in udacity : True\n",
      "mod in udacity : False\n"
     ]
    }
   ],
   "source": [
    "s = \"udacity\"\n",
    "t = [\"cit\", \"ad\", \"mod\"]\n",
    "for el in t:\n",
    "    print (el, \"in\", s, \":\", question1(s, el))"
   ]
  },
  {
   "cell_type": "markdown",
   "metadata": {},
   "source": [
    "### &#x1F52C; &nbsp;  Explanation 1"
   ]
  },
  {
   "cell_type": "code",
   "execution_count": null,
   "metadata": {
    "collapsed": true
   },
   "outputs": [],
   "source": []
  },
  {
   "cell_type": "markdown",
   "metadata": {
    "collapsed": true,
    "outputExpanded": false
   },
   "source": [
    "###  &#x1F4D1; &nbsp; Question 2\n",
    "Given a string a, find the longest palindromic substring contained in a.\n",
    "\n",
    "Your function definition should look like question2(a), and return a string."
   ]
  },
  {
   "cell_type": "markdown",
   "metadata": {},
   "source": [
    "###  &#x1F4D1; &nbsp; Solution 2"
   ]
  },
  {
   "cell_type": "code",
   "execution_count": 4,
   "metadata": {
    "collapsed": false,
    "outputExpanded": false
   },
   "outputs": [],
   "source": [
    "# Solution with helper functions\n",
    "def question2(a):\n",
    "    result = search_palindrome_in(a)\n",
    "    if (len(list(a)) == 0):        \n",
    "        return '' \n",
    "    elif (len(list(a)) == 1) | (result == []):\n",
    "        if 'a' in list(a):\n",
    "            return 'a'\n",
    "        else:\n",
    "            return None\n",
    "    else:\n",
    "        max_length = max(len(s) for s in result)\n",
    "        longest_result = [s for s in result if len(s) == max_length]\n",
    "        return longest_result[0]\n",
    "\n",
    "def search_palindrome_in(string):\n",
    "    palindromes = []\n",
    "    cuts = cut_collection(string)\n",
    "    for element in cuts:\n",
    "        substrings = sub_collection(element)\n",
    "        for el in substrings:\n",
    "            if is_palindrome(el):\n",
    "                palindromes.append(el)\n",
    "    return palindromes\n",
    "    \n",
    "def is_palindrome(string):\n",
    "    if string == \"\":\n",
    "        return True\n",
    "    else:\n",
    "        if string[0] == string[-1]:\n",
    "            return is_palindrome(string[1:-1])\n",
    "        else:\n",
    "            return False\n",
    "        \n",
    "def sub_collection(string):\n",
    "    sub_string = list(string)\n",
    "    sub_collection = []\n",
    "    for i in range(len(sub_string)+1):\n",
    "        join_string = \"\".join(sub_string[:i])\n",
    "        sub_collection.append(join_string )   \n",
    "    sub_collection = sub_collection[2:len(sub_string)+1]\n",
    "    return sub_collection     \n",
    "\n",
    "def cut_collection(string):\n",
    "    cut_collection = []\n",
    "    current = string\n",
    "    for i in range(len(list(string))+1):\n",
    "        cut_collection.append(current)\n",
    "        cut_string = current[1:]\n",
    "        current = cut_string\n",
    "    cut_collection = cut_collection[:len(list(string))-1]\n",
    "    return cut_collection"
   ]
  },
  {
   "cell_type": "markdown",
   "metadata": {},
   "source": [
    "### &#x1F52C; &nbsp; Test 2"
   ]
  },
  {
   "cell_type": "code",
   "execution_count": 5,
   "metadata": {
    "collapsed": false
   },
   "outputs": [
    {
     "name": "stdout",
     "output_type": "stream",
     "text": [
      "\n",
      "None\n",
      "a\n",
      "ette\n",
      "ara\n",
      "rotator\n"
     ]
    }
   ],
   "source": [
    "test_cases = ['', 'test', 'mart', 'letter', 'parallelogram', 'radarrotator']\n",
    "for test in test_cases:   \n",
    "#    print (list(test))\n",
    "#    print (string_collection(test))\n",
    "#    print (cut_collection(test))\n",
    "#    print (search_palindrome_in(test))\n",
    "    print (question2(test))"
   ]
  },
  {
   "cell_type": "markdown",
   "metadata": {},
   "source": [
    "### &#x1F52C; &nbsp; Explanation 2"
   ]
  },
  {
   "cell_type": "code",
   "execution_count": null,
   "metadata": {
    "collapsed": true
   },
   "outputs": [],
   "source": []
  },
  {
   "cell_type": "markdown",
   "metadata": {
    "collapsed": true,
    "outputExpanded": false
   },
   "source": [
    "###  &#x1F4D1; &nbsp; Question 3\n",
    "Given an undirected graph G, find the minimum spanning tree within G.\n",
    "\n",
    "A minimum spanning tree connects all vertices in a graph with the smallest possible total weight of edges. \n",
    "\n",
    "Your function should take in and return an adjacency list structured like this:"
   ]
  },
  {
   "cell_type": "code",
   "execution_count": 6,
   "metadata": {
    "collapsed": false,
    "outputExpanded": false
   },
   "outputs": [
    {
     "data": {
      "text/plain": [
       "{'A': [('B', 2)], 'B': [('A', 2), ('C', 5)], 'C': [('B', 5)]}"
      ]
     },
     "execution_count": 6,
     "metadata": {},
     "output_type": "execute_result"
    }
   ],
   "source": [
    "{'A': [('B', 2)],\n",
    " 'B': [('A', 2), ('C', 5)], \n",
    " 'C': [('B', 5)]}"
   ]
  },
  {
   "cell_type": "markdown",
   "metadata": {
    "collapsed": false
   },
   "source": [
    "Vertices are represented as unique strings. The function definition should be question3(G)"
   ]
  },
  {
   "cell_type": "markdown",
   "metadata": {},
   "source": [
    "###  &#x1F4D1; &nbsp; Solution 3"
   ]
  },
  {
   "cell_type": "code",
   "execution_count": 7,
   "metadata": {
    "collapsed": true
   },
   "outputs": [],
   "source": [
    "import networkx as nx\n",
    "from collections import OrderedDict\n",
    "import matplotlib.pyplot as plt\n",
    "% matplotlib inline"
   ]
  },
  {
   "cell_type": "code",
   "execution_count": 8,
   "metadata": {
    "collapsed": false
   },
   "outputs": [],
   "source": [
    "def question3(G):\n",
    "    GW = create_wgraph(G)\n",
    "    MST = nx.minimum_spanning_tree(GW)\n",
    "    D = create_wdictionary(MST)\n",
    "    OD = OrderedDict(sorted(D.items(), key=lambda t: t[0]))\n",
    "    return OD\n",
    "\n",
    "def create_wgraph(G):\n",
    "    W = nx.Graph()\n",
    "    for n, edges in G.items():\n",
    "        for (u,v) in edges:\n",
    "            W.add_edge(n, u, weight=v)\n",
    "    return W\n",
    "\n",
    "def create_wdictionary(W):\n",
    "    D ={}\n",
    "    Ws = nx.get_edge_attributes(W,'weight')\n",
    "    for ((u,v), n) in Ws.items():\n",
    "        D[u] = [(v, n)]\n",
    "    return D"
   ]
  },
  {
   "cell_type": "markdown",
   "metadata": {},
   "source": [
    "### &#x1F52C; &nbsp;  Test 3"
   ]
  },
  {
   "cell_type": "code",
   "execution_count": 47,
   "metadata": {
    "collapsed": false
   },
   "outputs": [
    {
     "name": "stdout",
     "output_type": "stream",
     "text": [
      "{('G', 'H'): 8, ('E', 'C'): 5, ('G', 'F'): 7, ('J', 'I'): 7, ('A', 'G'): 4, ('E', 'F'): 3, ('B', 'C'): 5, ('A', 'D'): 6, ('A', 'B'): 2, ('D', 'E'): 8, ('A', 'J'): 3, ('G', 'I'): 3}\n",
      "\n",
      "-----------------------------------------------------------------------------------------------------------\n",
      "\n",
      "{('G', 'H'): 8, ('E', 'C'): 5, ('A', 'D'): 6, ('A', 'B'): 2, ('F', 'E'): 3, ('B', 'C'): 5, ('A', 'J'): 3, ('G', 'I'): 3, ('A', 'G'): 4}\n",
      "\n",
      "-----------------------------------------------------------------------------------------------------------\n",
      "\n",
      "{'A': [('G', 4)], 'F': [('E', 3)], 'G': [('I', 3)], 'B': [('C', 5)], 'E': [('C', 5)]}\n",
      "\n",
      "-----------------------------------------------------------------------------------------------------------\n",
      "\n",
      "OrderedDict([('A', [('G', 4)]), ('B', [('C', 5)]), ('E', [('C', 5)]), ('F', [('E', 3)]), ('G', [('I', 3)])])\n"
     ]
    }
   ],
   "source": [
    "G = {'A': [('B', 2), ('D', 6), ('G', 4), ('J', 3)],\n",
    "     'B': [('A', 2), ('C', 5)], \n",
    "     'C': [('B', 5), ('E', 5)],\n",
    "     'D': [('A', 6), ('E', 8)],\n",
    "     'E': [('C', 5), ('D', 8), ('F', 3)],\n",
    "     'F': [('E', 3), ('G', 7)],\n",
    "     'G': [('A', 4), ('F', 7), ('H', 8), ('I', 3)],\n",
    "     'H': [('G', 8)], \n",
    "     'I': [('G', 3), ('J', 7)],\n",
    "     'J': [('A', 3), ('I', 7)]}\n",
    "\n",
    "WG = create_wgraph(G)\n",
    "weights = nx.get_edge_attributes(WG,'weight')\n",
    "print (weights)\n",
    "print('')\n",
    "print ('-----------------------------------------------------------------------------------------------------------')\n",
    "print('')\n",
    "MST = nx.minimum_spanning_tree(WG)\n",
    "weightsMST = nx.get_edge_attributes(MST,'weight')\n",
    "print (weightsMST)\n",
    "print('')\n",
    "print ('-----------------------------------------------------------------------------------------------------------')\n",
    "print('')\n",
    "print (create_wdictionary(MST))\n",
    "print('')\n",
    "print ('-----------------------------------------------------------------------------------------------------------')\n",
    "print('')\n",
    "print (question3(G))"
   ]
  },
  {
   "cell_type": "code",
   "execution_count": 48,
   "metadata": {
    "collapsed": false
   },
   "outputs": [
    {
     "name": "stdout",
     "output_type": "stream",
     "text": [
      "{('G', 'H'): 8, ('E', 'C'): 5, ('G', 'F'): 7, ('J', 'I'): 7, ('A', 'G'): 4, ('E', 'F'): 3, ('B', 'C'): 5, ('A', 'D'): 6, ('A', 'B'): 2, ('D', 'E'): 8, ('A', 'J'): 3, ('G', 'I'): 3}\n"
     ]
    },
    {
     "data": {
      "image/png": "[encoded data removed]",
      "text/plain": [
       "<matplotlib.figure.Figure at 0x1114d7b38>"
      ]
     },
     "metadata": {},
     "output_type": "display_data"
    }
   ],
   "source": [
    "pos=nx.fruchterman_reingold_layout(WG)\n",
    "nx.draw(WG, pos, with_labels=True, node_shape='8', node_size=800, \n",
    "        node_color='steelblue', edge_color='skyblue', width=7, alpha=0.7)\n",
    "nx.draw_networkx_edge_labels(WG, pos, edge_labels=weights)\n",
    "print (weights)"
   ]
  },
  {
   "cell_type": "code",
   "execution_count": 49,
   "metadata": {
    "collapsed": false
   },
   "outputs": [
    {
     "name": "stdout",
     "output_type": "stream",
     "text": [
      "{('G', 'H'): 8, ('E', 'C'): 5, ('A', 'D'): 6, ('A', 'B'): 2, ('F', 'E'): 3, ('B', 'C'): 5, ('A', 'J'): 3, ('G', 'I'): 3, ('A', 'G'): 4}\n"
     ]
    },
    {
     "data": {
      "image/png": "[encoded data removed]",
      "text/plain": [
       "<matplotlib.figure.Figure at 0x10e57b4e0>"
      ]
     },
     "metadata": {},
     "output_type": "display_data"
    }
   ],
   "source": [
    "nx.draw(MST, pos, with_labels=True, node_shape='8', node_size=1000, \n",
    "        node_color='steelblue', edge_color='skyblue', width=7, alpha=0.7)\n",
    "nx.draw_networkx_edge_labels(WG, pos, edge_labels=weights)\n",
    "print (weightsMST)"
   ]
  },
  {
   "cell_type": "markdown",
   "metadata": {},
   "source": [
    "### &#x1F52C; &nbsp; Explanation 3"
   ]
  },
  {
   "cell_type": "code",
   "execution_count": null,
   "metadata": {
    "collapsed": true
   },
   "outputs": [],
   "source": []
  },
  {
   "cell_type": "markdown",
   "metadata": {
    "collapsed": true,
    "outputExpanded": false
   },
   "source": [
    "###  &#x1F4D1; &nbsp; Question 4\n",
    "Find the least common ancestor between two nodes on a binary search tree. \n",
    "\n",
    "The least common ancestor is the farthest node from the root that is an ancestor of both nodes. \n",
    "\n",
    "For example, the root is a common ancestor of all nodes on the tree, but if both nodes are descendents \n",
    "\n",
    "of the root's left child, then that left child might be the lowest common ancestor. \n",
    "\n",
    "You can assume that both nodes are in the tree, and the tree itself adheres to all BST properties. \n",
    "\n",
    "The function definition should look like question4(T, r, n1, n2), where T is the tree represented as a matrix, \n",
    "\n",
    "where the index of the list is equal to the integer stored in that node and a 1 represents a child node, \n",
    "\n",
    "r is a non-negative integer representing the root, and n1 and n2 are non-negative integers representing \n",
    "\n",
    "the two nodes in no particular order. For example, one test case might be"
   ]
  },
  {
   "cell_type": "code",
   "execution_count": null,
   "metadata": {
    "collapsed": true,
    "outputExpanded": false
   },
   "outputs": [],
   "source": [
    "question4([[0, 1, 0, 0, 0],\n",
    "           [0, 0, 0, 0, 0],\n",
    "           [0, 0, 0, 0, 0],\n",
    "           [1, 0, 0, 0, 1],\n",
    "           [0, 0, 0, 0, 0]],\n",
    "          3,\n",
    "          1,\n",
    "          4)"
   ]
  },
  {
   "cell_type": "markdown",
   "metadata": {
    "collapsed": true,
    "outputExpanded": false
   },
   "source": [
    "and the answer would be 3."
   ]
  },
  {
   "cell_type": "markdown",
   "metadata": {
    "collapsed": true,
    "outputExpanded": false
   },
   "source": [
    "###  &#x1F4D1; &nbsp; Solution 4"
   ]
  },
  {
   "cell_type": "code",
   "execution_count": null,
   "metadata": {
    "collapsed": true
   },
   "outputs": [],
   "source": []
  },
  {
   "cell_type": "markdown",
   "metadata": {},
   "source": [
    "### &#x1F52C; &nbsp; Test 4"
   ]
  },
  {
   "cell_type": "code",
   "execution_count": 1,
   "metadata": {
    "collapsed": true
   },
   "outputs": [],
   "source": [
    "BT = [[0, 1, 1, 0, 0, 0, 0, 0, 0, 0, 0, 0, 0, 0, 0],\n",
    "      [1, 0, 0, 1, 1, 0, 0, 0, 0, 0, 0, 0, 0, 0, 0],\n",
    "      [1, 0, 0, 0, 0, 1, 1, 0, 0, 0, 0, 0, 0, 0, 0],\n",
    "      [0, 1, 0, 0, 0, 0, 0, 1, 1, 0, 0, 0, 0, 0, 0],\n",
    "      [0, 1, 0, 0, 0, 0, 0, 0, 0, 1, 1, 0, 0, 0, 0],\n",
    "      [0, 0, 1, 0, 0, 0, 0, 0, 0, 0, 0, 1, 1, 0, 0],\n",
    "      [0, 0, 1, 0, 0, 0, 0, 0, 0, 0, 0, 0, 0, 1, 1],\n",
    "      [0, 0, 0, 1, 0, 0, 0, 0, 0, 0, 0, 0, 0, 0, 0],\n",
    "      [0, 0, 0, 1, 0, 0, 0, 0, 0, 0, 0, 0, 0, 0, 0],\n",
    "      [0, 0, 0, 0, 1, 0, 0, 0, 0, 0, 0, 0, 0, 0, 0],\n",
    "      [0, 0, 0, 0, 1, 0, 0, 0, 0, 0, 0, 0, 0, 0, 0],\n",
    "      [0, 0, 0, 0, 0, 1, 0, 0, 0, 0, 0, 0, 0, 0, 0],\n",
    "      [0, 0, 0, 0, 0, 1, 0, 0, 0, 0, 0, 0, 0, 0, 0],\n",
    "      [0, 0, 0, 0, 0, 0, 1, 0, 0, 0, 0, 0, 0, 0, 0],\n",
    "      [0, 0, 0, 0, 0, 0, 1, 0, 0, 0, 0, 0, 0, 0, 0]]\n",
    "node1, node2, root = (4, 9, 0)"
   ]
  },
  {
   "cell_type": "code",
   "execution_count": null,
   "metadata": {
    "collapsed": true
   },
   "outputs": [],
   "source": []
  },
  {
   "cell_type": "code",
   "execution_count": null,
   "metadata": {
    "collapsed": true
   },
   "outputs": [],
   "source": []
  },
  {
   "cell_type": "markdown",
   "metadata": {},
   "source": [
    "### &#x1F52C; &nbsp; Explanation 4"
   ]
  },
  {
   "cell_type": "code",
   "execution_count": null,
   "metadata": {
    "collapsed": true
   },
   "outputs": [],
   "source": []
  },
  {
   "cell_type": "markdown",
   "metadata": {
    "outputExpanded": false
   },
   "source": [
    "###  &#x1F4D1; &nbsp; Question 5\n",
    "Find the element in a singly linked list that's m elements from the end. \n",
    "\n",
    "For example, if a linked list has 5 elements, the 3rd element from the end is the 3rd element. \n",
    "\n",
    "The function definition should look like question5(ll, m), \n",
    "\n",
    "where ll is the first node of a linked list and m is the \"mth number from the end\".\n",
    "\n",
    "You should copy/paste the Node class below to use as a representation of a node in the linked list. \n",
    "\n",
    "Return the value of the node at that position."
   ]
  },
  {
   "cell_type": "code",
   "execution_count": null,
   "metadata": {
    "collapsed": true,
    "outputExpanded": false
   },
   "outputs": [],
   "source": [
    "class Node(object):\n",
    "  def __init__(self, data):\n",
    "    self.data = data\n",
    "    self.next = None"
   ]
  },
  {
   "cell_type": "markdown",
   "metadata": {},
   "source": [
    "###  &#x1F4D1; &nbsp; Solution 5"
   ]
  },
  {
   "cell_type": "code",
   "execution_count": null,
   "metadata": {
    "collapsed": true,
    "outputExpanded": false
   },
   "outputs": [],
   "source": [
    "def question5(ll, m):\n",
    "    "
   ]
  },
  {
   "cell_type": "markdown",
   "metadata": {},
   "source": [
    "### &#x1F52C; &nbsp; Test 5"
   ]
  },
  {
   "cell_type": "code",
   "execution_count": null,
   "metadata": {
    "collapsed": true
   },
   "outputs": [],
   "source": []
  },
  {
   "cell_type": "markdown",
   "metadata": {},
   "source": [
    "### &#x1F52C; &nbsp; Explanation 5"
   ]
  },
  {
   "cell_type": "code",
   "execution_count": null,
   "metadata": {
    "collapsed": true
   },
   "outputs": [],
   "source": []
  }
 ],
 "metadata": {
  "anaconda-cloud": {},
  "gist_id": "c302dd3875a0e05c4c4d39ce3796cb78",
  "hide_input": false,
  "kernel_info": {
   "name": "python3"
  },
  "kernelspec": {
   "display_name": "Python [conda root]",
   "language": "python",
   "name": "conda-root-py"
  },
  "language_info": {
   "codemirror_mode": {
    "name": "ipython",
    "version": 3
   },
   "file_extension": ".py",
   "mimetype": "text/x-python",
   "name": "python",
   "nbconvert_exporter": "python",
   "pygments_lexer": "ipython3",
   "version": "3.5.2"
  },
  "latex_envs": {
   "bibliofile": "biblio.bib",
   "cite_by": "apalike",
   "current_citInitial": 1,
   "eqLabelWithNumbers": true,
   "eqNumInitial": 0
  }
 },
 "nbformat": 4,
 "nbformat_minor": 2
}
