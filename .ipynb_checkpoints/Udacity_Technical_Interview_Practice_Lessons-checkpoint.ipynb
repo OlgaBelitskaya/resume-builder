{
 "cells": [
  {
   "cell_type": "markdown",
   "metadata": {},
   "source": [
    "# Udacity CAREER DEVELOPMENT"
   ]
  },
  {
   "cell_type": "markdown",
   "metadata": {
    "outputExpanded": false
   },
   "source": [
    "## &#x1F3E2; &nbsp; Technical Interview Practice. Lessons\n",
    "\n",
    "#### &#x1F4D1; &nbsp; Links\n",
    "MIT. Design and Analysis of Algorithms. Lecture Notes: \n",
    "\n",
    "https://ocw.mit.edu/courses/electrical-engineering-and-computer-science/6-046j-design-and-analysis-of-algorithms-spring-2015/lecture-notes/\n",
    "\n",
    "Classes (python): https://docs.python.org/3.3/tutorial/classes.html\n",
    "\n",
    "Data structures: https://docs.python.org/2/tutorial/datastructures.html\n",
    "\n",
    "Merge Sort: http://algs4.cs.princeton.edu/22mergesort/\n",
    "\n",
    "Quick Sort: http://algs4.cs.princeton.edu/23quicksort/\n",
    "\n",
    "Visualising data structures and algorithms through animation: https://visualgo.net/\n",
    "\n",
    "Problem Solving with Algorithms and Data Structures using Python: https://interactivepython.org/runestone/static/pythonds/index.html\n",
    "\n",
    "Functional Programming HOWTO: https://docs.python.org/3.6/howto/functional.html\n",
    "\n",
    "Python 3 hashlib: https://docs.python.org/3/library/hashlib.html\n",
    "\n",
    "Quicksort with Python: http://stackoverflow.com/questions/18262306/quicksort-with-python\n",
    "\n",
    "Tree Terminology: http://btechsmartclass.com/DS/U3_T1.html\n",
    "\n",
    "Tree Traversal: https://www.tutorialspoint.com/data_structures_algorithms/tree_traversal.html\n",
    "\n",
    "LaTeX/Mathematics: https://en.wikibooks.org/wiki/LaTeX/Mathematics"
   ]
  },
  {
   "cell_type": "markdown",
   "metadata": {
    "outputExpanded": false
   },
   "source": [
    "####  &#x1F4D1; &nbsp; 1. Introduction and Efficiency"
   ]
  },
  {
   "cell_type": "code",
   "execution_count": null,
   "metadata": {
    "collapsed": true,
    "outputExpanded": false
   },
   "outputs": [],
   "source": [
    "# !!! Not to run\n",
    "\n",
    "# Comments\n",
    "# This is a one-line Python comment - code blocks are so useful!\n",
    "\"\"\"This type of comment is used to document the purpose of functions and classes.\"\"\"\n",
    "\n",
    "# Declaration/Initialization\n",
    "# Remember values, not variables, have data types.\n",
    "# A variable can be reassigned to contain a different data type.\n",
    "answer = 42\n",
    "answer = \"The answer is 42.\"\n",
    "\n",
    "# Data Types\n",
    "boolean = True\n",
    "number = 1.1\n",
    "string = \"Strings can be declared with single or double quotes.\"\n",
    "list = [\"Lists can have\", 1, 2, 3, 4, \"or more types together!\"]\n",
    "tuple = (\"Tuples\", \"can have\", \"more than\", 2, \"elements!\")\n",
    "dictionary = {'one': 1, 'two': 2, 'three': 3}\n",
    "variable_with_zero_data = None\n",
    "\n",
    "# Simple Logging\n",
    "print \"Printed!\"\n",
    "Conditionals\n",
    "if cake == \"delicious\":\n",
    "    return \"Yes please!\"\n",
    "elif cake == \"okay\":\n",
    "    return \"I'll have a small piece.\"\n",
    "else:\n",
    "    return \"No, thank you.\"\n",
    "\n",
    "# Loops\n",
    "for item in list:\n",
    "    print item\n",
    "\n",
    "while (total < max_val):\n",
    "    total += values[i]\n",
    "    i += 2\n",
    "\n",
    "# Functions\n",
    "def divide(dividend, divisor):\n",
    "    quotient = dividend / divisor\n",
    "    remainder = dividend % divisor\n",
    "    return quotient, remainder\n",
    "\n",
    "def calculate_stuff(x, y):\n",
    "    (q, r) = divide(x,y)\n",
    "    print q, r\n",
    "    \n",
    "# Classes\n",
    "class Person(object):\n",
    "    def __init__(self, name, age):\n",
    "        self.name = name\n",
    "        self.age = age \n",
    "\n",
    "    def birthday(self):\n",
    "        self.age += 1"
   ]
  },
  {
   "cell_type": "code",
   "execution_count": 3,
   "metadata": {
    "collapsed": false,
    "outputExpanded": false
   },
   "outputs": [
    {
     "name": "stdout",
     "output_type": "stream",
     "text": [
      "0\n",
      "2\n",
      "11\n",
      "15\n"
     ]
    }
   ],
   "source": [
    "\"\"\"You can use this class to represent how classy someone\n",
    "or something is.\n",
    "\"Classy\" is interchangable with \"fancy\".\n",
    "If you add fancy-looking items, you will increase\n",
    "your \"classiness\".\n",
    "Create a function in \"Classy\" that takes a string as\n",
    "input and adds it to the \"items\" list.\n",
    "Another method should calculate the \"classiness\"\n",
    "value based on the items.\n",
    "The following items have classiness points associated\n",
    "with them:\n",
    "\"tophat\" = 2\n",
    "\"bowtie\" = 4\n",
    "\"monocle\" = 5\n",
    "Everything else has 0 points.\n",
    "Use the test cases below to guide you!\"\"\"\n",
    "\n",
    "class Classy(object):\n",
    "    def __init__(self):\n",
    "        self.items = []\n",
    "\n",
    "    def getClassiness(self):\n",
    "        classiness = 0\n",
    "        for item in self.items:\n",
    "            if item == \"tophat\":\n",
    "                classiness += 2\n",
    "            elif item == \"bowtie\":\n",
    "                classiness += 4\n",
    "            elif item == \"monocle\":\n",
    "                classiness += 5\n",
    "        return classiness    \n",
    "    \n",
    "    def addItem(self, item):\n",
    "        self.items.append(item)  \n",
    "\n",
    "# Test cases\n",
    "me = Classy()\n",
    "\n",
    "# Should be 0\n",
    "print (me.getClassiness())\n",
    "\n",
    "me.addItem(\"tophat\")\n",
    "# Should be 2\n",
    "print (me.getClassiness())\n",
    "\n",
    "me.addItem(\"bowtie\")\n",
    "me.addItem(\"jacket\")\n",
    "me.addItem(\"monocle\")\n",
    "# Should be 11\n",
    "print (me.getClassiness())\n",
    "\n",
    "me.addItem(\"bowtie\")\n",
    "# Should be 15\n",
    "print (me.getClassiness())"
   ]
  },
  {
   "cell_type": "code",
   "execution_count": null,
   "metadata": {
    "collapsed": true,
    "outputExpanded": false
   },
   "outputs": [],
   "source": [
    "\"\"\"input manatees: a list of \"manatees\", where one manatee is represented by a dictionary\n",
    "a single manatee has properties like \"name\", \"age\", et cetera\n",
    "n = the number of elements in \"manatees\"\n",
    "m = the number of properties per \"manatee\" (i.e. the number of keys in a manatee dictionary)\"\"\"\n",
    "\n",
    "def example1(manatees):\n",
    "    for manatee in manatees:\n",
    "        print manatee['name']\n",
    "\n",
    "def example2(manatees):\n",
    "    print manatees[0]['name']\n",
    "    print manatees[0]['age']\n",
    "\n",
    "def example3(manatees):\n",
    "    for manatee in manatees:\n",
    "        for manatee_property in manatee:\n",
    "            print manatee_property, \": \", manatee[manatee_property]\n",
    "\n",
    "def example4(manatees):\n",
    "    oldest_manatee = \"No manatees here!\"\n",
    "    for manatee1 in manatees:\n",
    "        for manatee2 in manatees:\n",
    "            if manatee1['age'] < manatee2['age']:\n",
    "                oldest_manatee = manatee2['name']\n",
    "            else:\n",
    "                oldest_manatee = manatee1['name']\n",
    "    print oldest_manatee"
   ]
  },
  {
   "cell_type": "markdown",
   "metadata": {
    "outputExpanded": false
   },
   "source": [
    "# O(n), O(1), O(mn), O(n^2)"
   ]
  },
  {
   "cell_type": "markdown",
   "metadata": {
    "outputExpanded": false
   },
   "source": [
    "####  &#x1F4D1; &nbsp; 2. List-Based Collections"
   ]
  },
  {
   "cell_type": "code",
   "execution_count": null,
   "metadata": {
    "collapsed": true,
    "outputExpanded": false
   },
   "outputs": [],
   "source": [
    "# There isn't a built-in data structure in Python that looks like a linked list. \n",
    "# Thankfully, it's easy to make classes that represent data structures in Python! \n",
    "\n",
    "# Here's the code for an Element, which will be a single unit in a linked list:\n",
    "\n",
    "class Element(object):\n",
    "    def __init__(self, value):\n",
    "        self.value = value\n",
    "        self.next = None\n",
    "# Make sure you understand this code before moving on! We use __init__ to initialize a new Element. \n",
    "# An Element has some value associated with it (which could be anything—a number, a string, a character, et cetera), \n",
    "# and it has a variable that points to the next element in the linked list. \n",
    "\n",
    "# Now, let's set up a LinkedList class:\n",
    "\n",
    "class LinkedList(object):\n",
    "    def __init__(self, head=None):\n",
    "        self.head = head\n",
    "# This code is very similar—we're just establishing that a LinkedList is something that has a head Element, \n",
    "# which is the first element in the list. If we establish a new LinkedList without a head, it will default to None. \n",
    "\n",
    "# Great! Let's add a method to our LinkedList to make it a little more useful. \n",
    "# This method will add a new Element to the end of our LinkedList.\n",
    "\n",
    "    def append(self, new_element):\n",
    "        current = self.head\n",
    "        if self.head:\n",
    "            while current.next:\n",
    "                current = current.next\n",
    "            current.next = new_element\n",
    "        else:\n",
    "            self.head = new_element\n",
    "# Again, this part is really important, so don't rush through it. \n",
    "#Take the code line-by-line and make sure everything makes sense. \n",
    "#If the LinkedList already has a head, iterate through the next reference \n",
    "#in every Element until you reach the end of the list. \n",
    "# Set next for the end of the list to be the new_element. \n",
    "# Alternatively, if there is no head already, you should just assign new_element to it and do nothing else."
   ]
  },
  {
   "cell_type": "code",
   "execution_count": 4,
   "metadata": {
    "collapsed": false,
    "outputExpanded": false
   },
   "outputs": [
    {
     "name": "stdout",
     "output_type": "stream",
     "text": [
      "3\n",
      "3\n",
      "4\n",
      "2\n",
      "4\n",
      "3\n"
     ]
    }
   ],
   "source": [
    "\"\"\"The LinkedList code from before is provided below.\n",
    "Add three functions to the LinkedList.\n",
    "\"get_position\" returns the element at a certain position.\n",
    "The \"insert\" function will add an element to a particular\n",
    "spot in the list.\n",
    "\"delete\" will delete the first element with that\n",
    "particular value.\n",
    "Then, use \"Test Run\" and \"Submit\" to run the test cases\n",
    "at the bottom.\"\"\"\n",
    "\n",
    "class Element(object):\n",
    "    def __init__(self, value):\n",
    "        self.value = value\n",
    "        self.next = None\n",
    "        \n",
    "class LinkedList(object):\n",
    "    def __init__(self, head=None):\n",
    "        self.head = head\n",
    "        \n",
    "    def append(self, new_element):\n",
    "        current = self.head\n",
    "        if self.head:\n",
    "            while current.next:\n",
    "                current = current.next\n",
    "            current.next = new_element\n",
    "        else:\n",
    "            self.head = new_element\n",
    "            \n",
    "    def get_position(self, position):\n",
    "        \"\"\"Get an element from a particular position.\n",
    "        Assume the first position is \"1\".\n",
    "        Return \"None\" if position is not in the list.\"\"\"\n",
    "        count = 1\n",
    "        el_head = self.head\n",
    "        if position < 1:\n",
    "            return None\n",
    "        while el_head and count <= position:\n",
    "            if count == position:\n",
    "                return el_head\n",
    "            el_head = el_head.next\n",
    "            count += 1\n",
    "        return None\n",
    "    \n",
    "    def insert(self, new_element, position):\n",
    "        \"\"\"Insert a new node at the given position.\n",
    "        Assume the first position is \"1\".\n",
    "        Inserting at position 3 means between\n",
    "        the 2nd and 3rd elements.\"\"\"\n",
    "        count = 1\n",
    "        el = self.head\n",
    "        \n",
    "        if position == 1:\n",
    "            self.head = el\n",
    "            \n",
    "        elif position > 1:\n",
    "            while el and count < position:\n",
    "                if count == position - 1:\n",
    "                    new_element.next = el.next\n",
    "                    el.next = new_element\n",
    "                el = el.next\n",
    "                count += 1 \n",
    "                \n",
    "    \n",
    "    def delete(self, value):\n",
    "        \"\"\"Delete the first node with a given value.\"\"\"\n",
    "        new_el = self.head\n",
    "        previous_el = None\n",
    "        while new_el.value != value and new_el.next:\n",
    "            previous_el = new_el\n",
    "            new_el = new_el.next\n",
    "        if new_el.value == value:\n",
    "            if previous_el:\n",
    "                previous_el.next = new_el.next\n",
    "            else:\n",
    "                self.head = new_el.next\n",
    "\n",
    "# Test cases\n",
    "# Set up some Elements\n",
    "e1 = Element(1)\n",
    "e2 = Element(2)\n",
    "e3 = Element(3)\n",
    "e4 = Element(4)\n",
    "\n",
    "# Start setting up a LinkedList\n",
    "ll = LinkedList(e1)\n",
    "ll.append(e2)\n",
    "ll.append(e3)\n",
    "\n",
    "# Test get_position\n",
    "# Should print 3\n",
    "print (ll.head.next.next.value)\n",
    "# Should also print 3\n",
    "print (ll.get_position(3).value)\n",
    "\n",
    "# Test insert\n",
    "ll.insert(e4,3)\n",
    "# Should print 4 now\n",
    "print (ll.get_position(3).value)\n",
    "\n",
    "# Test delete\n",
    "ll.delete(1)\n",
    "# Should print 2 now\n",
    "print (ll.get_position(1).value)\n",
    "# Should print 4 now\n",
    "print (ll.get_position(2).value)\n",
    "# Should print 3 now\n",
    "\n",
    "print (ll.get_position(3).value)"
   ]
  },
  {
   "cell_type": "code",
   "execution_count": 6,
   "metadata": {
    "collapsed": true,
    "outputExpanded": false
   },
   "outputs": [],
   "source": [
    "# Answer #2\n",
    "\n",
    "class Element(object):\n",
    "    def __init__(self, value):\n",
    "        self.value = value\n",
    "        self.next = None\n",
    "\n",
    "class LinkedList(object):\n",
    "    def __init__(self, head=None):\n",
    "        self.head = head\n",
    "\n",
    "    def append(self, new_element):\n",
    "        current = self.head\n",
    "        if self.head:\n",
    "            while current.next:\n",
    "                current = current.next\n",
    "            current.next = new_element\n",
    "        else:\n",
    "            self.head = new_element\n",
    "\n",
    "    def get_position(self, position):\n",
    "        counter = 1\n",
    "        current = self.head\n",
    "        if position < 1:\n",
    "            return None\n",
    "        while current and counter <= position:\n",
    "            if counter == position:\n",
    "                return current\n",
    "            current = current.next\n",
    "            counter += 1\n",
    "        return None\n",
    "\n",
    "    def insert(self, new_element, position):\n",
    "        counter = 1\n",
    "        current = self.head\n",
    "        if position > 1:\n",
    "            while current and counter < position:\n",
    "                if counter == position - 1:\n",
    "                    new_element.next = current.next\n",
    "                    current.next = new_element\n",
    "                current = current.next\n",
    "                counter += 1\n",
    "        elif position == 1:\n",
    "            new_element.next = self.head\n",
    "            self.head = new_element\n",
    "\n",
    "    def delete(self, value):\n",
    "        current = self.head\n",
    "        previous = None\n",
    "        while current.value != value and current.next:\n",
    "            previous = current\n",
    "            current = current.next\n",
    "        if current.value == value:\n",
    "            if previous:\n",
    "                previous.next = current.next\n",
    "            else:\n",
    "                self.head = current.next"
   ]
  },
  {
   "cell_type": "code",
   "execution_count": 7,
   "metadata": {
    "collapsed": false,
    "outputExpanded": false
   },
   "outputs": [
    {
     "name": "stdout",
     "output_type": "stream",
     "text": [
      "3\n",
      "3\n",
      "4\n",
      "2\n",
      "4\n",
      "3\n"
     ]
    }
   ],
   "source": [
    "# Test cases\n",
    "# Set up some Elements\n",
    "e1 = Element(1)\n",
    "e2 = Element(2)\n",
    "e3 = Element(3)\n",
    "e4 = Element(4)\n",
    "\n",
    "# Start setting up a LinkedList\n",
    "ll = LinkedList(e1)\n",
    "ll.append(e2)\n",
    "ll.append(e3)\n",
    "\n",
    "# Test get_position\n",
    "# Should print 3\n",
    "print ll.head.next.next.value\n",
    "# Should also print 3\n",
    "print ll.get_position(3).value\n",
    "\n",
    "# Test insert\n",
    "ll.insert(e4,3)\n",
    "# Should print 4 now\n",
    "print ll.get_position(3).value\n",
    "\n",
    "# Test delete\n",
    "ll.delete(1)\n",
    "# Should print 2 now\n",
    "print ll.get_position(1).value\n",
    "# Should print 4 now\n",
    "print ll.get_position(2).value\n",
    "# Should print 3 now\n",
    "print ll.get_position(3).value"
   ]
  },
  {
   "cell_type": "code",
   "execution_count": 5,
   "metadata": {
    "collapsed": false,
    "outputExpanded": false
   },
   "outputs": [
    {
     "name": "stdout",
     "output_type": "stream",
     "text": [
      "3\n",
      "2\n",
      "1\n",
      "None\n",
      "4\n"
     ]
    }
   ],
   "source": [
    "\"\"\"Add a couple methods to our LinkedList class,\n",
    "and use that to implement a Stack.\n",
    "You have 4 functions below to fill in:\n",
    "insert_first, delete_first, push, and pop.\n",
    "Think about this while you're implementing:\n",
    "why is it easier to add an \"insert_first\"\n",
    "function than just use \"append\"?\"\"\"\n",
    "\n",
    "class Element(object):\n",
    "    def __init__(self, value):\n",
    "        self.value = value\n",
    "        self.next = None\n",
    "        \n",
    "class LinkedList(object):\n",
    "    def __init__(self, head=None):\n",
    "        self.head = head\n",
    "        \n",
    "    def append(self, new_element):\n",
    "        current = self.head\n",
    "        if self.head:\n",
    "            while current.next:\n",
    "                current = current.next\n",
    "            current.next = new_element\n",
    "        else:\n",
    "            self.head = new_element\n",
    "\n",
    "    def insert_first(self, new_element):\n",
    "        \"Insert new element as the head of the LinkedList\"\n",
    "        new_element.next = self.head\n",
    "        self.head = new_element\n",
    "\n",
    "    def delete_first(self):\n",
    "        \"Delete the first (head) element in the LinkedList as return it\"\n",
    "        if self.head:\n",
    "            del_el = self.head\n",
    "            first_el = del_el.next\n",
    "            self.head = first_el\n",
    "            return del_el\n",
    "        else:\n",
    "            return None        \n",
    "        \n",
    "class Stack(object):\n",
    "    def __init__(self,top=None):\n",
    "        self.ll = LinkedList(top)\n",
    "\n",
    "    def push(self, new_element):\n",
    "        \"Push (add) a new element onto the top of the stack\"\n",
    "        self.ll.insert_first(new_element)\n",
    "\n",
    "    def pop(self):\n",
    "        \"Pop (remove) the first element off the top of the stack and return it\"\n",
    "        return self.ll.delete_first()\n",
    "    \n",
    "# Test cases\n",
    "# Set up some Elements\n",
    "e1 = Element(1)\n",
    "e2 = Element(2)\n",
    "e3 = Element(3)\n",
    "e4 = Element(4)\n",
    "\n",
    "# Start setting up a Stack\n",
    "stack = Stack(e1)\n",
    "\n",
    "# Test stack functionality\n",
    "stack.push(e2)\n",
    "stack.push(e3)\n",
    "print (stack.pop().value)\n",
    "print (stack.pop().value)\n",
    "print (stack.pop().value)\n",
    "print (stack.pop())\n",
    "stack.push(e4)\n",
    "print (stack.pop().value)"
   ]
  },
  {
   "cell_type": "code",
   "execution_count": 31,
   "metadata": {
    "collapsed": false,
    "outputExpanded": false
   },
   "outputs": [
    {
     "name": "stdout",
     "output_type": "stream",
     "text": [
      "1\n",
      "1\n",
      "2\n",
      "3\n",
      "4\n",
      "5\n"
     ]
    }
   ],
   "source": [
    "\"\"\"Make a Queue class using a list!\n",
    "Hint: You can use any Python list method\n",
    "you'd like! Try to write each one in as \n",
    "few lines as possible.\n",
    "Make sure you pass the test cases too!\"\"\"\n",
    "\n",
    "class Queue:\n",
    "    def __init__(self, head=None):\n",
    "        self.storage = [head]\n",
    "\n",
    "    def enqueue(self, new_element):\n",
    "        self.storage.append(new_element)\n",
    "\n",
    "    def peek(self):\n",
    "        return self.storage[0]\n",
    "\n",
    "    def dequeue(self):\n",
    "        return self.storage.pop(0)\n",
    "    \n",
    "# Setup\n",
    "q = Queue(1)\n",
    "q.enqueue(2)\n",
    "q.enqueue(3)\n",
    "\n",
    "# Test peek\n",
    "# Should be 1\n",
    "print q.peek()\n",
    "\n",
    "# Test dequeue\n",
    "# Should be 1\n",
    "print q.dequeue()\n",
    "\n",
    "# Test enqueue\n",
    "q.enqueue(4)\n",
    "# Should be 2\n",
    "print q.dequeue()\n",
    "# Should be 3\n",
    "print q.dequeue()\n",
    "# Should be 4\n",
    "print q.dequeue()\n",
    "q.enqueue(5)\n",
    "# Should be 5\n",
    "print q.peek()"
   ]
  },
  {
   "cell_type": "code",
   "execution_count": 30,
   "metadata": {
    "collapsed": false,
    "outputExpanded": false
   },
   "outputs": [
    {
     "name": "stdout",
     "output_type": "stream",
     "text": [
      "22.5\n",
      "['computer lab', 'economic department']\n"
     ]
    }
   ],
   "source": [
    "# Examples. Classes\n",
    "\n",
    "class Complex:\n",
    "    def __init__(self, realpart, imagpart):\n",
    "        self.r = realpart\n",
    "        self.i = imagpart\n",
    "\n",
    "print Complex(17.4, 22.5).i\n",
    "\n",
    "\n",
    "class Employee:\n",
    "    pass\n",
    "john = Employee() \n",
    "john.name = 'John Doe'\n",
    "john.dept = 'computer lab'\n",
    "john.salary = 1000\n",
    "ann = Employee()\n",
    "ann.name = 'Ann Munn'\n",
    "ann.dept = 'economic department'\n",
    "ann.salary = 1000\n",
    "print [john.dept, ann.dept]"
   ]
  },
  {
   "cell_type": "code",
   "execution_count": 39,
   "metadata": {
    "collapsed": false,
    "outputExpanded": false
   },
   "outputs": [
    {
     "name": "stdout",
     "output_type": "stream",
     "text": [
      "['L', 'A', 'B']\n",
      "deque(['c', 'o', 'l', 'l', 'a', 'b', 'o', 'r', 'a', 't', 'o', 'r'])\n"
     ]
    }
   ],
   "source": [
    "# Examples. Deque\n",
    "\n",
    "import collections\n",
    "\n",
    "el = collections.deque('lab')\n",
    "up_el = []\n",
    "for elem in el:\n",
    "    up_el.append(elem.upper())\n",
    "print up_el\n",
    "\n",
    "for element in list('orator'):\n",
    "    el.append(element)\n",
    "for letter in list('loc'):\n",
    "    el.appendleft(letter)\n",
    "print el"
   ]
  },
  {
   "cell_type": "markdown",
   "metadata": {
    "outputExpanded": false
   },
   "source": [
    "####  &#x1F4D1; &nbsp; 3. Searching and Sorting"
   ]
  },
  {
   "cell_type": "code",
   "execution_count": 17,
   "metadata": {
    "collapsed": false,
    "outputExpanded": false
   },
   "outputs": [
    {
     "name": "stdout",
     "output_type": "stream",
     "text": [
      "-1\n",
      "4\n"
     ]
    }
   ],
   "source": [
    "\"\"\"You're going to write a binary search function.\n",
    "You should use an iterative approach - meaning\n",
    "using loops.\n",
    "Your function should take two inputs:\n",
    "a Python list to search through, and the value\n",
    "you're searching for.\n",
    "Assume the list only has distinct elements,\n",
    "meaning there are no repeated values, and \n",
    "elements are in a strictly increasing order.\n",
    "Return the index of value, or -1 if the value\n",
    "doesn't exist in the list.\"\"\"\n",
    "\n",
    "import math\n",
    "def binary_search(input_array, value):\n",
    "    \"\"\"Your code goes here.\"\"\"\n",
    "    n = int(round(math.log(7))) + 1\n",
    "    array = input_array\n",
    "    for i in range(n):\n",
    "        if input_array == []:\n",
    "            break\n",
    "        else:\n",
    "            l = int(len(array))/2\n",
    "            if array[l] == value:\n",
    "                return input_array.index(value)\n",
    "            elif array[l] > value:\n",
    "                array = array[:l]\n",
    "            elif input_array[l] < value:\n",
    "                array = array[l:]\n",
    "    \n",
    "    return -1\n",
    "\n",
    "test_list = [1,3,9,11,15,19,29]\n",
    "test_val1 = 25\n",
    "test_val2 = 15\n",
    "print binary_search(test_list, test_val1)\n",
    "print binary_search(test_list, test_val2)"
   ]
  },
  {
   "cell_type": "code",
   "execution_count": 19,
   "metadata": {
    "collapsed": false,
    "outputExpanded": false
   },
   "outputs": [
    {
     "name": "stdout",
     "output_type": "stream",
     "text": [
      "-1\n",
      "4\n"
     ]
    }
   ],
   "source": [
    "# Answer #2\n",
    "\n",
    "def binary_search(input_array, value):\n",
    "    \"\"\"Your code goes here.\"\"\"\n",
    "    lower_bound = 0\n",
    "    upper_bound = len(input_array) - 1\n",
    "    while lower_bound <= upper_bound:\n",
    "        mean = (lower_bound + upper_bound) / 2\n",
    "        if input_array[mean] == value:\n",
    "            return mean\n",
    "        elif input_array[mean] < value:\n",
    "            lower_bound = mean + 1\n",
    "        else:\n",
    "            upper_bound = mean - 1\n",
    "    return -1\n",
    "\n",
    "test_list = [1,3,9,11,15,19,29]\n",
    "test_val1 = 25\n",
    "test_val2 = 15\n",
    "print binary_search(test_list, test_val1)\n",
    "print binary_search(test_list, test_val2)"
   ]
  },
  {
   "cell_type": "code",
   "execution_count": null,
   "metadata": {
    "collapsed": true,
    "outputExpanded": false
   },
   "outputs": [],
   "source": [
    "# We're going to take a look at recursion with a famous example—the Fibonacci Sequence. \n",
    "\n",
    "# The Fibonacci Sequence follows one rule: get the next number in the sequence by adding the two previous numbers. \n",
    "# Here is an example of the sequence:\n",
    "\n",
    "# 0,1,1,2,3,5,8,13,21,34...\n",
    "# Step through each value. You start with 0 and 1. 0 + 1 = 1, so you add 1 to the sequence. \n",
    "# 1 + 1 = 2, so 2 is added. 1 + 2 = 3, so 3. 2 + 3 = 5, et cetera. \n",
    "\n",
    "# You could represent these numbers as Python list, and it would look something like this:\n",
    "\n",
    "fib_seq = []\n",
    "fib_seq[0] = 0\n",
    "fib_seq[1] = 1\n",
    "fib_seq[2] = 1\n",
    "fib_seq[3] = 2\n",
    "fib_seq[4] = 3\n",
    "fib_seq[5] = 5\n",
    "fib_seq[6] = 8\n",
    "fib_seq[7] = 13\n",
    "fib_seq[8] = 21\n",
    "fib_seq[9] = 34\n",
    "\n",
    "# We can generate this sequence using an iterative method (with loops):\n",
    "\n",
    "function getFib(position) {\n",
    "  if (position == 0) { return 0; }\n",
    "  if (position == 1) { return 1; }\n",
    "  var first = 0,\n",
    "      second = 1,\n",
    "      next = first + second;\n",
    "  for (var i = 2; i < position; i++) {\n",
    "    first = second;\n",
    "    second = next;\n",
    "    next = first + second;\n",
    "  }\n",
    "  return next;\n",
    "}"
   ]
  },
  {
   "cell_type": "code",
   "execution_count": 40,
   "metadata": {
    "collapsed": false,
    "outputExpanded": false
   },
   "outputs": [
    {
     "name": "stdout",
     "output_type": "stream",
     "text": [
      "34\n",
      "89\n",
      "0\n",
      "'Position' must be an integer\n"
     ]
    }
   ],
   "source": [
    "\"\"\"Implement a function recursivly to get the desired\n",
    "Fibonacci sequence value.\n",
    "Your code should have the same input/output as the \n",
    "iterative code in the instructions.\"\"\"\n",
    "\n",
    "def get_fib(position):\n",
    "    if position < 0 | isinstance(position, int) == False:\n",
    "        return \"'Position' must be an integer\"\n",
    "    elif position == 0:\n",
    "        return 0\n",
    "    elif position == 1:\n",
    "        return 1\n",
    "    else:\n",
    "        return get_fib(position - 1) + get_fib(position - 2)\n",
    "\n",
    "# Test cases\n",
    "print get_fib(9)\n",
    "print get_fib(11)\n",
    "print get_fib(0)\n",
    "print get_fib(-3.4)"
   ]
  },
  {
   "cell_type": "code",
   "execution_count": null,
   "metadata": {
    "collapsed": true,
    "outputExpanded": false
   },
   "outputs": [],
   "source": [
    "# Answer #2\n",
    "\n",
    "def get_fib(position):\n",
    "    if position == 0 or position == 1:\n",
    "        return position\n",
    "    return get_fib(position - 1) + get_fib(position - 2)"
   ]
  },
  {
   "cell_type": "markdown",
   "metadata": {
    "outputExpanded": false
   },
   "source": [
    "#### Recursion classic examples"
   ]
  },
  {
   "cell_type": "code",
   "execution_count": 20,
   "metadata": {
    "collapsed": false,
    "outputExpanded": false
   },
   "outputs": [
    {
     "data": {
      "text/plain": [
       "3628800"
      ]
     },
     "execution_count": 20,
     "metadata": {},
     "output_type": "execute_result",
     "text": []
    }
   ],
   "source": [
    "def factorial(n):\n",
    "    if n == 1:\n",
    "        return 1\n",
    "    else:\n",
    "        return n * factorial(n-1)\n",
    "factorial(10)"
   ]
  },
  {
   "cell_type": "code",
   "execution_count": 22,
   "metadata": {
    "collapsed": false,
    "outputExpanded": false
   },
   "outputs": [
    {
     "name": "stdout",
     "output_type": "stream",
     "text": [
      "[1, 5, 10, 10, 5, 1]\n"
     ]
    }
   ],
   "source": [
    "def pascal(n):\n",
    "    if n == 1:\n",
    "        return [1]\n",
    "    else:\n",
    "        line = [1]\n",
    "        previous_line = pascal(n-1)\n",
    "        for i in range(len(previous_line)-1):\n",
    "            line.append(previous_line[i] + previous_line[i+1])\n",
    "        line += [1]\n",
    "    return line\n",
    "\n",
    "print(pascal(6))"
   ]
  },
  {
   "cell_type": "code",
   "execution_count": 74,
   "metadata": {
    "collapsed": false,
    "outputExpanded": false
   },
   "outputs": [
    {
     "name": "stdout",
     "output_type": "stream",
     "text": [
      "7\n",
      "6\n",
      "5\n",
      "4\n",
      "3\n",
      "2\n",
      "1\n"
     ]
    }
   ],
   "source": [
    "def print_(n):\n",
    "        if n >= 1:\n",
    "            print n\n",
    "            print_(n-1)\n",
    "print_(7)"
   ]
  },
  {
   "cell_type": "code",
   "execution_count": 92,
   "metadata": {
    "collapsed": false,
    "outputExpanded": false
   },
   "outputs": [
    {
     "data": {
      "text/plain": [
       "True"
      ]
     },
     "execution_count": 92,
     "metadata": {},
     "output_type": "execute_result",
     "text": []
    }
   ],
   "source": [
    "def is_even(n):\n",
    "        if n == 0:\n",
    "            return True\n",
    "        else:\n",
    "            if (n-1) == 0:\n",
    "                return False\n",
    "            else:\n",
    "                return is_even((n-1)-1)\n",
    "is_even(10)"
   ]
  },
  {
   "cell_type": "code",
   "execution_count": 1,
   "metadata": {
    "collapsed": false,
    "outputExpanded": false
   },
   "outputs": [
    {
     "name": "stdout",
     "output_type": "stream",
     "text": [
      "[4, 1, 3, 9, 20, 21, 6, 21, 14, 25]\n",
      "[1, 3, 4, 9, 20, 6, 21, 14, 21, 25]\n",
      "[1, 3, 4, 9, 6, 20, 14, 21, 21, 25]\n",
      "[1, 3, 4, 6, 9, 14, 20, 21, 21, 25]\n"
     ]
    }
   ],
   "source": [
    "\"\"\"Implement quick sort in Python.\n",
    "Input a list.\n",
    "Output a sorted list.\"\"\"\n",
    "def quicksort_base(array):\n",
    "    if len(array) != 1: \n",
    "        n = len(array)\n",
    "        for i in range(n-1):\n",
    "            if array[i] > array[i+1]:\n",
    "                small = array[i+1]\n",
    "                big = array[i]\n",
    "                array[i] = small \n",
    "                array[i+1] = big\n",
    "    return array\n",
    "\n",
    "\n",
    "test = [21, 4, 1, 3, 9, 20, 25, 6, 21, 14]\n",
    "print (quicksort_base(test))\n",
    "print (quicksort_base(test))\n",
    "print (quicksort_base(test))\n",
    "print (quicksort_base(test))"
   ]
  },
  {
   "cell_type": "code",
   "execution_count": 20,
   "metadata": {
    "collapsed": false,
    "outputExpanded": false
   },
   "outputs": [
    {
     "name": "stdout",
     "output_type": "stream",
     "text": [
      "[1, 3, 4, 6, 9, 14, 20, 21, 21, 25]\n"
     ]
    }
   ],
   "source": [
    "\"\"\"Implement quick sort in Python.\n",
    "Input a list.\n",
    "Output a sorted list.\"\"\"\n",
    "def parts(array, start, end):\n",
    "    pivot = array[end]\n",
    "    left = start\n",
    "    right = end - 1\n",
    "    yes = True\n",
    "   \n",
    "    while yes:\n",
    "        while right >= left and array[right] >= pivot:\n",
    "            right = right - 1\n",
    "        while array[left] <= pivot and left <= right:\n",
    "            left = left + 1\n",
    "\n",
    "        if right < left:\n",
    "            yes = False\n",
    "        else:\n",
    "            m = array[right]\n",
    "            array[right] = array[left]\n",
    "            array[left] = m\n",
    "\n",
    "    m = array[end]\n",
    "    array[end] = array[left]\n",
    "    array[left] = m\n",
    "\n",
    "    return left\n",
    "\n",
    "def recursive_sort(array, start, end):\n",
    "    if start < end:\n",
    "        partition = parts(array, start, end)\n",
    "        recursive_sort(array, start + 1, end)\n",
    "        recursive_sort(array, start, end - 1)\n",
    "\n",
    "def quicksort(array):\n",
    "    recursive_sort(array, 0, len(array)-1)\n",
    "    return array\n",
    "    \n",
    "test = [21, 4, 1, 3, 9, 20, 25, 6, 21, 14]\n",
    "print (quicksort(test))\n"
   ]
  },
  {
   "cell_type": "markdown",
   "metadata": {
    "outputExpanded": false
   },
   "source": [
    "#### Sorting classic examples"
   ]
  },
  {
   "cell_type": "code",
   "execution_count": null,
   "metadata": {
    "collapsed": false,
    "outputExpanded": false
   },
   "outputs": [],
   "source": []
  },
  {
   "cell_type": "code",
   "execution_count": null,
   "metadata": {
    "collapsed": false,
    "outputExpanded": false
   },
   "outputs": [],
   "source": []
  },
  {
   "cell_type": "markdown",
   "metadata": {
    "outputExpanded": false
   },
   "source": [
    "####  &#x1F4D1; &nbsp; 4. Maps and Hashing"
   ]
  },
  {
   "cell_type": "code",
   "execution_count": 2,
   "metadata": {
    "collapsed": false,
    "outputExpanded": false
   },
   "outputs": [
    {
     "name": "stdout",
     "output_type": "stream",
     "text": [
      "{'t': 6, 'c': 4, 'i': 5, 'd': 2, 'u': 1, 'y': 7, 'a': 3}\n",
      "6\n",
      "{'t': 6, 'c': 4, 'i': 5, 'd': 2, 'u': 1, 'y': 7, 'a': 3}\n"
     ]
    }
   ],
   "source": [
    "# In Python, the map concept appears as a built-in data type called a dictionary. \n",
    "# A dictionary contains key-value pairs. Dictionaries might soon become \n",
    "# your favorite data structure in Python—they're extremely easy to use and useful. \n",
    "# Here's a sample of setting up a dictionary\n",
    "\n",
    "udacity = {}\n",
    "udacity['u'] = 1\n",
    "udacity['d'] = 2\n",
    "udacity['a'] = 3\n",
    "udacity['c'] = 4\n",
    "udacity['i'] = 5\n",
    "udacity['t'] = 6\n",
    "udacity['y'] = 7\n",
    "\n",
    "print (udacity)\n",
    "# {'u': 1, 'd': 2, 'a': 3, 'c': 4, 'i': 5, 't': 6, 'y': 7}\n",
    "# In this case, the letters in \"udacity\" were each keys in our dictionary, \n",
    "# and the position of that letter in the string was the value. \n",
    "# Thus, I can do the following:\n",
    "\n",
    "print (udacity['t'])\n",
    "# 6\n",
    "# This statement is saying \"go to the key labeled 't' and find it's value, 6\".\n",
    "\n",
    "# Dictionaries are wonderfully flexible—you can store a wide variety of structures as values. \n",
    "# You store another dictionary or a list:\n",
    "\n",
    "dictionary = {}\n",
    "dictionary['d'] = [1]\n",
    "dictionary['i'] = [2]\n",
    "dictionary['c'] = [3]\n",
    "dictionary['t'] = [4]\n",
    "dictionary['i'].append(5)\n",
    "dictionary['o'] = [6]\n",
    "dictionary['n'] = [7]\n",
    "dictionary['a'] = [8]\n",
    "dictionary['r'] = [9]\n",
    "dictionary['y'] = [10]\n",
    "print (udacity)\n",
    "# {'d': [1], 'i': [2, 5], 'c': [3], 't': [4], 'o': [6], 'n': [7], 'a': [8], 'r': [9], 'y':[10]}"
   ]
  },
  {
   "cell_type": "code",
   "execution_count": 3,
   "metadata": {
    "collapsed": false,
    "outputExpanded": false
   },
   "outputs": [
    {
     "name": "stdout",
     "output_type": "stream",
     "text": [
      "1\n",
      "Atlanta\n",
      "Mountain View\n",
      "2\n",
      "Bangalore - India\n",
      "Shanghai - China\n"
     ]
    }
   ],
   "source": [
    "\"\"\"Time to play with Python dictionaries!\n",
    "You're going to work on a dictionary that\n",
    "stores cities by country and continent.\n",
    "One is done for you - the city of Mountain \n",
    "View is in the USA, which is in North America.\n",
    "\n",
    "You need to add the cities listed below by\n",
    "modifying the structure.\n",
    "Then, you should print out the values specified\n",
    "by looking them up in the structure.\n",
    "\n",
    "Cities to add:\n",
    "Bangalore (India, Asia)\n",
    "Atlanta (USA, North America)\n",
    "Cairo (Egypt, Africa)\n",
    "Shanghai (China, Asia)\"\"\"\n",
    "\n",
    "locations = {'North America': {'USA': ['Mountain View', 'Atlanta']},\n",
    "              'Asia': {'India': ['Bangalore'], 'China': ['Shanghai']},\n",
    "              'Africa': {'Egypt': ['Cairo']}}\n",
    "\n",
    "\"\"\"Print the following (using \"print\").\n",
    "1. A list of all cities in the USA in\n",
    "alphabetic order.\n",
    "2. All cities in Asia, in alphabetic\n",
    "order, next to the name of the country.\n",
    "In your output, label each answer with a number\n",
    "so it looks like this:\n",
    "1\n",
    "American City\n",
    "American City\n",
    "2\n",
    "Asian City - Country\n",
    "Asian City - Country\"\"\"\n",
    "print (1)\n",
    "print (locations['North America']['USA'][1])\n",
    "print (locations['North America']['USA'][0])\n",
    "\n",
    "string1 = str(locations['Asia']['India'][0]) + ' - ' + str(list(locations['Asia'].keys())[1])\n",
    "string2 = str(locations['Asia']['China'][0]) + ' - ' + str(list(locations['Asia'].keys())[0])\n",
    "print (2)\n",
    "print (string1)\n",
    "print (string2)\n",
    "# print (locations['Asia'].keys())"
   ]
  },
  {
   "cell_type": "code",
   "execution_count": 4,
   "metadata": {
    "collapsed": false,
    "outputExpanded": false
   },
   "outputs": [
    {
     "name": "stdout",
     "output_type": "stream",
     "text": [
      "1\n",
      "Atlanta\n",
      "Mountain View\n",
      "2\n",
      "Bangalore - India\n",
      "Shanghai - China\n"
     ]
    }
   ],
   "source": [
    "# Answer #2\n",
    "locations = {'North America': {'USA': ['Mountain View']}}\n",
    "locations['North America']['USA'].append('Atlanta')\n",
    "locations['Asia'] = {'India': ['Bangalore']}\n",
    "locations['Asia']['China'] = ['Shanghai']\n",
    "locations['Africa'] = {'Egypt': ['Cairo']}\n",
    "\n",
    "print (1)\n",
    "usa_sorted = sorted(locations['North America']['USA'])\n",
    "for city in usa_sorted:\n",
    "    print (city)\n",
    "\n",
    "print (2)\n",
    "asia_cities = []\n",
    "for countries, cities in locations['Asia'].items(): #.iteritems() for py2\n",
    "    city_country = cities[0] + \" - \" + countries \n",
    "    asia_cities.append(city_country)\n",
    "asia_sorted = sorted(asia_cities)\n",
    "for city in asia_sorted:\n",
    "    print (city)\n"
   ]
  },
  {
   "cell_type": "markdown",
   "metadata": {
    "outputExpanded": false
   },
   "source": [
    "When we're talking about hash tables, we can define a \"load factor\":\n",
    "\n",
    "Load Factor = Number of Entries / Number of Buckets\n",
    "The purpose of a load factor is to give us a sense of how \"full\" a hash table is. For example, if we're trying to store 10 values in a hash table with 1000 buckets, the load factor would be 0.01, and the majority of buckets in the table will be empty. We end up wasting memory by having so many empty buckets, so we may want to rehash, or come up with a new hash function with less buckets. We can use our load factor as an indicator for when to rehash—as the load factor approaches 0, the more empty, or sparse, our hash table is. \n",
    "\n",
    "On the flip side, the closer our load factor is to 1 (meaning the number of values equals the number of buckets), the better it would be for us to rehash and add more buckets. Any table with a load value greater than 1 is guaranteed to have collisions. "
   ]
  },
  {
   "cell_type": "markdown",
   "metadata": {
    "outputExpanded": false
   },
   "source": [
    "For the load factor, you should divide the number of values by the number of buckets. There are 100 values, as stated in the question, and 100 buckets (0 to 99). Thus, 100/100 = 1!\n",
    "\n",
    "The answer to the second part is 107. The other values all had something wrong with them:\n",
    "\n",
    "125 is also a multiple of 5. Dividing a bunch of multiples of 5 by another multiple of 5 will cause a lot of collisions. Here's an example, where 10 is used as the divisor:\n",
    "5 % 10 = 5\n",
    "10 % 10 = 0\n",
    "15 % 10 = 5\n",
    "20 % 10 = 0\n",
    "87 is better than 125, but because it's less than 100 it'll still have collisions.\n",
    "1001 is good, but it'll create a ton of leftover buckets and waste a lot of memory.\n"
   ]
  },
  {
   "cell_type": "code",
   "execution_count": 27,
   "metadata": {
    "collapsed": false,
    "outputExpanded": false
   },
   "outputs": [
    {
     "name": "stdout",
     "output_type": "stream",
     "text": [
      "b'\\x03\\x1e\\xdd}Ae\\x15\\x93\\xc5\\xfe\\\\\\x00o\\xa5u+7\\xfd\\xdf\\xf7\\xbcN\\x84:\\xa6\\xaf\\x0c\\x95\\x0fK\\x94\\x06'\n",
      "32\n",
      "a4337bc45a8fc544c03f52dc550cd6e1e87021bc896588bd79e901e2\n"
     ]
    }
   ],
   "source": [
    "m = hashlib.sha256()\n",
    "m.update(b\"Nobody inspects\")\n",
    "m.update(b\" the spammish repetition\")\n",
    "print(m.digest())\n",
    "print(m.digest_size)\n",
    "print(hashlib.sha224(b\"Nobody inspects the spammish repetition\").hexdigest())"
   ]
  },
  {
   "cell_type": "code",
   "execution_count": 28,
   "metadata": {
    "collapsed": false,
    "outputExpanded": false
   },
   "outputs": [
    {
     "name": "stdout",
     "output_type": "stream",
     "text": [
      "b10a8db164e0754105b7a99be72e3fe5\n"
     ]
    }
   ],
   "source": [
    "hash_object = hashlib.md5(b'Hello World')\n",
    "print(hash_object.hexdigest())"
   ]
  },
  {
   "cell_type": "code",
   "execution_count": 25,
   "metadata": {
    "collapsed": false,
    "outputExpanded": false
   },
   "outputs": [
    {
     "name": "stdout",
     "output_type": "stream",
     "text": [
      "[[1, 0.0, 0.0], [2, 0.0010000000000000009, 0.000999500166624978], [3, 0.002998000000000056, 0.0029955044966269995], [4, 0.005989005999999963, 0.005982035946064723], [5, 0.009965049975999896, 0.009950166250831893], [6, 0.014915224726119836, 0.014888060396937353], [7, 0.020825733377763056, 0.02078103543054044], [8, 0.02767995324411865, 0.02761163319875315], [9, 0.035458513618165766, 0.03535970651687692]]\n"
     ]
    }
   ],
   "source": [
    "# Probability of a Hash Collision\n",
    "import math, hashlib, binascii\n",
    "N = 1000\n",
    "prob = 1.0\n",
    "prob_list = []\n",
    "for k in iter(range(1, 10)):\n",
    "    prob = prob * (N - (k - 1)) / N\n",
    "    prob_list.append([k, 1 - prob, 1 - math.exp(-0.5 * k * (k - 1) / N)])\n",
    "print (prob_list)"
   ]
  },
  {
   "cell_type": "code",
   "execution_count": 26,
   "metadata": {
    "collapsed": false,
    "outputExpanded": false
   },
   "outputs": [
    {
     "name": "stdout",
     "output_type": "stream",
     "text": [
      "{'sha384', 'sha512', 'sha224', 'md5', 'sha256', 'sha1'}\n"
     ]
    }
   ],
   "source": [
    "print(hashlib.algorithms_guaranteed)"
   ]
  },
  {
   "cell_type": "markdown",
   "metadata": {
    "outputExpanded": false
   },
   "source": [
    "In this quiz, you'll write your own hash table and hash function that uses string keys. Your table will store strings in buckets by their first two letters, according to the formula below:\n",
    "\n",
    "Hash Value = (ASCII Value of First Letter * 100) + ASCII Value of Second Letter \n",
    "You can assume that the string will have at least two letters, and the first two characters are uppercase letters (ASCII values from 65 to 90). You can use the Python function ord() to get the ASCII value of a letter, and chr() to get the letter associated with an ASCII value. \n",
    "\n",
    "You'll create a HashTable class, methods to store and lookup values, and a helper function to calculate a hash value given a string. You cannot use a Python dictionary—only lists! And remember to store lists at each bucket, and not just the string itself. For example, you can store \"UDACITY\" at index 8568 as [\"UDACITY\"]."
   ]
  },
  {
   "cell_type": "code",
   "execution_count": 5,
   "metadata": {
    "collapsed": false,
    "outputExpanded": false
   },
   "outputs": [
    {
     "name": "stdout",
     "output_type": "stream",
     "text": [
      "8568\n",
      "-1\n",
      "8568\n",
      "8568\n"
     ]
    }
   ],
   "source": [
    "\"\"\"Write a HashTable class that stores strings\n",
    "in a hash table, where keys are calculated\n",
    "using the first two letters of the string.\"\"\"\n",
    "\n",
    "class HashTable(object):\n",
    "    def __init__(self):\n",
    "        self.table = [None]*10000\n",
    "    \n",
    "    def calculate_hash_value(self, string):\n",
    "        \"\"\"Helper function to calulate a\n",
    "        hash value from a string.\"\"\"\n",
    "        hash_value = ord(string[0])*100 + ord(string[1])\n",
    "        return hash_value\n",
    "\n",
    "    def store(self, string):\n",
    "        \"\"\"Input a string that's stored in \n",
    "        the table.\"\"\"\n",
    "        hash_value = self.calculate_hash_value(string)\n",
    "        if hash_value != -1:\n",
    "            if self.table[hash_value] != None:\n",
    "                self.table[hash_value].append(string)\n",
    "            else:\n",
    "                self.table[hash_value] = [string]\n",
    "    def lookup(self, string):\n",
    "        \"\"\"Return the hash value if the\n",
    "        string is already in the table.\n",
    "        Return -1 otherwise.\"\"\"\n",
    "        hash_value = self.calculate_hash_value(string)\n",
    "        if hash_value != -1:\n",
    "            if self.table[hash_value] != None:\n",
    "                if string in self.table[hash_value]:\n",
    "                    return hash_value\n",
    "        return -1\n",
    "    \n",
    "# Setup\n",
    "hash_table = HashTable()\n",
    "\n",
    "# Test calculate_hash_value\n",
    "# Should be 8568\n",
    "print (hash_table.calculate_hash_value('UDACITY'))\n",
    "\n",
    "# Test lookup edge case\n",
    "# Should be -1\n",
    "print (hash_table.lookup('UDACITY'))\n",
    "\n",
    "# Test store\n",
    "hash_table.store('UDACITY')\n",
    "# Should be 8568\n",
    "print (hash_table.lookup('UDACITY'))\n",
    "\n",
    "# Test store edge case\n",
    "hash_table.store('UDACIOUS')\n",
    "# Should be 8568\n",
    "print (hash_table.lookup('UDACIOUS'))\n"
   ]
  },
  {
   "cell_type": "markdown",
   "metadata": {
    "outputExpanded": false
   },
   "source": [
    "####  &#x1F4D1; &nbsp; 5. Trees"
   ]
  },
  {
   "cell_type": "markdown",
   "metadata": {},
   "source": [
    "##### In-order Traversal\n",
    "While not all nodes are traversed:\n",
    "\n",
    "- Recursively traverse left subtree. \n",
    "- Visit root node.\n",
    "- Recursively traverse right subtree.\n",
    "\n",
    "##### Pre-order Traversal\n",
    "While not all nodes are traversed:\n",
    "\n",
    "- Visit root node.\n",
    "- Recursively traverse left subtree.\n",
    "- Recursively traverse right subtree.\n",
    "\n",
    "##### Post-order Traversal\n",
    "While not all nodes are traversed:\n",
    "\n",
    "- Recursively traverse left subtree.\n",
    "- Recursively traverse right subtree.\n",
    "- Visit root node."
   ]
  },
  {
   "cell_type": "code",
   "execution_count": null,
   "metadata": {
    "collapsed": true,
    "outputExpanded": false
   },
   "outputs": [],
   "source": [
    "# Let's cement tree traversals by coding them up. Let's start with our basic building blocks:\n",
    "\n",
    "class Node:\n",
    "    def __init__(self, value):\n",
    "        self.value = value\n",
    "        self.children = None\n",
    "\n",
    "#Now we can begin to build our tree:\n",
    "\n",
    "class Tree:\n",
    "    def __init__(self, root=None):\n",
    "        self.root = root\n",
    "        \n",
    "# Your task will be to write functions that traverse the tree in a specific order."
   ]
  },
  {
   "cell_type": "code",
   "execution_count": null,
   "metadata": {
    "collapsed": true,
    "outputExpanded": false
   },
   "outputs": [],
   "source": [
    "# Now, it's your turn! Your goal is to create your own binary tree. \n",
    "# You should start with the most basic building block:\n",
    "\n",
    "class Node(object):\n",
    "    def __init__(self, value):\n",
    "        self.value = value\n",
    "        self.left = None\n",
    "        self.right = None\n",
    "        \n",
    "class BinaryTree:\n",
    "    def __init__(self, root):\n",
    "        self.root = Node(root)\n",
    "    \n",
    "    def BuildTree(self, root):\n",
    "        self.root.left = Node(root.left)\n",
    "        self.root.right = Node(root.right)\n",
    "        self.BuildTree(self.root.left)\n",
    "        self.BuildTree(self.root.right)\n",
    "        \n",
    "    def PreOrder(self, root):\n",
    "        if self.root != None:\n",
    "            self.root.left.PreOrder()\n",
    "            self.root.right.PreOrder()\n",
    "\n",
    "# Every node has some value, and pointers to left and right children. \n",
    "\n",
    "# You'll need to implement two methods: search(), which searches for the presence of a node in the tree, \n",
    "# and print_tree(), which prints out the values of tree nodes in a pre-order traversal. \n",
    "# You should attempt to use the helper methods provided to create recursive solutions to these functions. "
   ]
  },
  {
   "cell_type": "code",
   "execution_count": 2,
   "metadata": {
    "collapsed": false,
    "outputExpanded": false
   },
   "outputs": [
    {
     "name": "stdout",
     "output_type": "stream",
     "text": [
      "True\n",
      "False\n",
      "1-2-4-5-3\n"
     ]
    }
   ],
   "source": [
    "class Node(object):\n",
    "    def __init__(self, value):\n",
    "        self.value = value\n",
    "        self.left = None\n",
    "        self.right = None\n",
    "\n",
    "class BinaryTree(object):\n",
    "    def __init__(self, root):\n",
    "        self.root = Node(root)\n",
    "\n",
    "    def search(self, find_val):\n",
    "        \"\"\"Return True if the value\n",
    "        is in the tree, return\n",
    "        False otherwise.\"\"\"\n",
    "        return self.preorder_search(tree.root, find_val)\n",
    "\n",
    "    def print_tree(self):\n",
    "        \"\"\"Print out all tree nodes\n",
    "        as they are visited in\n",
    "        a pre-order traversal.\"\"\"\n",
    "        return self.preorder_print(tree.root, \"\")[:-1]\n",
    "\n",
    "    def preorder_search(self, start, find_val):\n",
    "        \"\"\"Helper method - use this to create a \n",
    "        recursive search solution.\"\"\"\n",
    "        if start != None:\n",
    "            if start.value == find_val:\n",
    "                return True\n",
    "            else:\n",
    "                return self.preorder_search(start.left, find_val) | self.preorder_search(start.right, find_val)\n",
    "        return False\n",
    "            \n",
    "    def preorder_print(self, start, traversal):\n",
    "        \"\"\"Helper method - use this to create a \n",
    "        recursive print solution.\"\"\"\n",
    "        if start:\n",
    "            traversal += (str(start.value) + \"-\")\n",
    "            traversal = self.preorder_print(start.left, traversal)\n",
    "            traversal = self.preorder_print(start.right, traversal)        \n",
    "        return traversal\n",
    "\n",
    "\n",
    "# Set up tree\n",
    "tree = BinaryTree(1)\n",
    "tree.root.left = Node(2)\n",
    "tree.root.right = Node(3)\n",
    "tree.root.left.left = Node(4)\n",
    "tree.root.left.right = Node(5)\n",
    "\n",
    "# Test search\n",
    "# Should be True\n",
    "print (tree.search(4))\n",
    "# Should be False\n",
    "print (tree.search(6))\n",
    "\n",
    "# Test print_tree\n",
    "# Should be 1-2-4-5-3\n",
    "print (tree.print_tree())"
   ]
  },
  {
   "cell_type": "code",
   "execution_count": null,
   "metadata": {
    "collapsed": true,
    "outputExpanded": false
   },
   "outputs": [],
   "source": [
    "# Now try implementing a BST on your own. You'll use the same Node class as before:\n",
    "\n",
    "class Node(object):\n",
    "    def __init__(self, value):\n",
    "        self.value = value\n",
    "        self.left = None\n",
    "        self.right = None\n",
    "        \n",
    "# This time, you'll implement search() and insert(). \n",
    "# You should rewrite search() and not use your code from the last exercise so it takes advantage of BST properties. \n",
    "# Feel free to make any helper functions you feel like you need, including the print_tree() function \n",
    "# from earlier for debugging. You can assume that two nodes with the same value won't be inserted into the tree. "
   ]
  },
  {
   "cell_type": "code",
   "execution_count": 13,
   "metadata": {
    "collapsed": false,
    "outputExpanded": false
   },
   "outputs": [
    {
     "name": "stdout",
     "output_type": "stream",
     "text": [
      "True\n",
      "False\n"
     ]
    }
   ],
   "source": [
    "class Node(object):\n",
    "    def __init__(self, value):\n",
    "        self.value = value\n",
    "        self.left = None\n",
    "        self.right = None\n",
    "\n",
    "class BST(object):\n",
    "    def __init__(self, root):\n",
    "        self.root = Node(root)\n",
    "\n",
    "    def start_insert(self, start, new_val):\n",
    "        if start.value < new_val:\n",
    "            if start.right:\n",
    "                self.start_insert(start.right, new_val)\n",
    "            else:\n",
    "                start.right = Node(new_val)\n",
    "        else:\n",
    "            if start.left:\n",
    "                self.start_insert(start.left, new_val)\n",
    "            else:\n",
    "                start.left = Node(new_val)\n",
    "                \n",
    "    def insert(self, new_val):\n",
    "        self.start_insert(self.root, new_val)\n",
    "\n",
    "    def start_search(self, start, find_val):\n",
    "        if start != None:\n",
    "            if start.value == find_val:\n",
    "                return True\n",
    "            elif start.value < find_val:\n",
    "                return self.start_search(start.right, find_val)\n",
    "            else:\n",
    "                return self.start_search(start.left, find_val)\n",
    "        return False\n",
    "    \n",
    "    def search(self, find_val):\n",
    "        return self.start_search(self.root, find_val)\n",
    "    \n",
    "# Set up tree\n",
    "tree = BST(4)\n",
    "\n",
    "# Insert elements\n",
    "tree.insert(2)\n",
    "tree.insert(1)\n",
    "tree.insert(3)\n",
    "tree.insert(5)\n",
    "\n",
    "# Check search\n",
    "# Should be True\n",
    "print (tree.search(4))\n",
    "# Should be False\n",
    "print (tree.search(6))"
   ]
  },
  {
   "cell_type": "markdown",
   "metadata": {
    "outputExpanded": false
   },
   "source": [
    "####  &#x1F4D1; &nbsp; 6. Graphs"
   ]
  },
  {
   "cell_type": "markdown",
   "metadata": {},
   "source": [
    "#### DFS: https://www.cs.usfca.edu/~galles/visualization/DFS.html\n",
    "#### BFS: https://www.cs.usfca.edu/~galles/visualization/BFS.html\n",
    "#### Sage.  Graph Theory: http://doc.sagemath.org/pdf/en/reference/graphs/graphs.pdf\n",
    "#### NetworkX: https://networkx.github.io/documentation/networkx-1.10/overview.html"
   ]
  },
  {
   "cell_type": "markdown",
   "metadata": {
    "outputExpanded": false
   },
   "source": [
    "Let's discuss a few more definitions that extend on the topics from the last few videos.\n",
    "\n",
    "Talking about connectivity in a directed graph is a bit more complicated than in an undirected graph. Let's look at some more definitions:\n",
    "\n",
    "Disconnected\n",
    "Disconnected graphs are very similar whether the graph's directed or undirected—there is some vertex or group of vertices that have no connection with the rest of the graph.\n",
    "\n",
    "Weakly Connected\n",
    "A directed graph is weakly connected when only replacing all of the directed edges with undirected edges can cause it to be connected. Imagine that your graph has several vertices with one outbound edge, meaning an edge that points from it to some other vertex in the graph. There's no way to reach all of those vertices from any other vertex in the graph, but if those edges were changed to be undirected all vertices would be easily accessible.\n",
    "\n",
    "Connected\n",
    "Here we only use \"connected graph\" to refer to undirected graphs. In a connected graph, there is some path between one vertex and every other vertex.\n",
    "\n",
    "Strongly Connected\n",
    "Strongly connected directed graphs must have a path from every node and every other node. So, there must be a path from A to B AND B to A."
   ]
  },
  {
   "cell_type": "code",
   "execution_count": null,
   "metadata": {
    "collapsed": true,
    "outputExpanded": false
   },
   "outputs": [],
   "source": [
    "# You should become comfortable with various graph representations—graphs crop up often in interviews \n",
    "# and in computer science in general, and you could need to represent it in any of it's forms. \n",
    "\n",
    "# In this exercise you'll need to add functions to a Graph class to return various representations of the same graph. \n",
    "# Your graph will have two different components: Nodes and Edges. \n",
    "\n",
    "class Node(object):\n",
    "    def __init__(self, value):\n",
    "        self.value = value\n",
    "        self.edges = []\n",
    "        \n",
    "# Nodes are pretty much the same as they were in trees. \n",
    "# Instead of having a set number of children, each node has a list of Edges. \n",
    "\n",
    "class Edge(object):\n",
    "    def __init__(self, value, node_from, node_to):\n",
    "        self.value = value\n",
    "        self.node_from = node_from\n",
    "        self.node_to = node_to\n",
    "        \n",
    "# Here, we assume that edges have both a value and a direction. An edge points from one node \n",
    "# to another—the node it starts at is the node_from and the node it ends at is the node_to. \n",
    "# You can envision it as node_from -> node_to. \n",
    "\n",
    "# The base of the Graph class looks something like this:\n",
    "\n",
    "class Graph(object):\n",
    "    def __init__(self, nodes=[], edges=[]):\n",
    "        self.nodes = nodes\n",
    "        self.edges = edges\n",
    "        \n",
    "# A Graph class contains a list of nodes and edges. You can sometimes get by with just a list of edges, \n",
    "# since edges contain references to the nodes they connect to, or vice versa. \n",
    "# However, our Graph class is built with both for the following reasons: \n",
    "\n",
    "# If you're storing a disconnected graph, not every node will be tied to an edge, so you should store a list of nodes.\n",
    "# We could probably leave it there, but storing an edge list will make our lives much easier \n",
    "# when we're trying to print out different types of graph representations. \n",
    "# Unfortunately, having both makes insertion a bit complicated. We can assume that each value is unique, \n",
    "# but we need to be careful about keeping both nodes and edges updated when either is inserted. \n",
    "# You'll also be given these insertion functions to help you out:\n",
    "\n",
    "def insert_node(self, new_node_val):\n",
    "    new_node = Node(new_node_val)\n",
    "    self.nodes.append(new_node)\n",
    "\n",
    "def insert_edge(self, new_edge_val, node_from_val, node_to_val):\n",
    "    from_found = None\n",
    "    to_found = None\n",
    "    for node in self.nodes:\n",
    "        if node_from_val == node.value:\n",
    "            from_found = node\n",
    "        if node_to_val == node.value:\n",
    "            to_found = node\n",
    "    if from_found == None:\n",
    "        from_found = Node(node_from_val)\n",
    "        self.nodes.append(from_found)\n",
    "    if to_found == None:\n",
    "        to_found = Node(node_to_val)\n",
    "        self.nodes.append(to_found)\n",
    "    new_edge = Edge(new_edge_val, from_found, to_found)\n",
    "    from_found.edges.append(new_edge)\n",
    "    to_found.edges.append(new_edge)\n",
    "    self.edges.append(new_edge)"
   ]
  },
  {
   "cell_type": "code",
   "execution_count": 9,
   "metadata": {
    "collapsed": false
   },
   "outputs": [
    {
     "name": "stdout",
     "output_type": "stream",
     "text": [
      "[(100, 1, 2), (101, 1, 3), (102, 1, 4), (103, 3, 4)]\n",
      "[None, [(2, 100), (3, 101), (4, 102)], None, [(4, 103)], None]\n",
      "[[0, 0, 0, 0, 0], [0, 0, 100, 101, 102], [0, 0, 0, 0, 0], [0, 0, 0, 0, 103], [0, 0, 0, 0, 0]]\n"
     ]
    }
   ],
   "source": [
    "class Node(object):\n",
    "    def __init__(self, value):\n",
    "        self.value = value\n",
    "        self.edges = []\n",
    "\n",
    "class Edge(object):\n",
    "    def __init__(self, value, node_from, node_to):\n",
    "        self.value = value\n",
    "        self.node_from = node_from\n",
    "        self.node_to = node_to\n",
    "\n",
    "class Graph(object):\n",
    "    def __init__(self, nodes=[], edges=[]):\n",
    "        self.nodes = nodes\n",
    "        self.edges = edges\n",
    "\n",
    "    def insert_node(self, new_node_val):\n",
    "        new_node = Node(new_node_val)\n",
    "        self.nodes.append(new_node)\n",
    "        \n",
    "    def insert_edge(self, new_edge_val, node_from_val, node_to_val):\n",
    "        from_found = None\n",
    "        to_found = None\n",
    "        for node in self.nodes:\n",
    "            if node_from_val == node.value:\n",
    "                from_found = node\n",
    "            if node_to_val == node.value:\n",
    "                to_found = node\n",
    "        if from_found == None:\n",
    "            from_found = Node(node_from_val)\n",
    "            self.nodes.append(from_found)\n",
    "        if to_found == None:\n",
    "            to_found = Node(node_to_val)\n",
    "            self.nodes.append(to_found)\n",
    "        new_edge = Edge(new_edge_val, from_found, to_found)\n",
    "        from_found.edges.append(new_edge)\n",
    "        to_found.edges.append(new_edge)\n",
    "        self.edges.append(new_edge)\n",
    "\n",
    "    def get_edge_list(self):\n",
    "        \"\"\"Don't return a list of edge objects!\n",
    "        Return a list of triples that looks like this:\n",
    "        (Edge Value, From Node Value, To Node Value)\"\"\"\n",
    "        edges_list = []\n",
    "        for edge in self.edges:\n",
    "            edge = (edge.value, edge.node_from.value, edge.node_to.value)\n",
    "            edges_list.append(edge)\n",
    "        return edges_list        \n",
    "\n",
    "    def get_adjacency_list(self):\n",
    "        \"\"\"Don't return any Node or Edge objects!\n",
    "        You'll return a list of lists.\n",
    "        The indecies of the outer list represent\n",
    "        \"from\" nodes.\n",
    "        Each section in the list will store a list\n",
    "        of tuples that looks like this:\n",
    "        (To Node, Edge Value)\"\"\"\n",
    "        max_index = -1\n",
    "        for node in self.nodes:\n",
    "            if node.value > max_index:\n",
    "                max_index = node.value\n",
    " \n",
    "        adjacency_list = [None] * (max_index + 1)\n",
    "        for edge in self.edges:\n",
    "            if adjacency_list[edge.node_from.value]:\n",
    "                adjacency_list[edge.node_from.value].append((edge.node_to.value, edge.value))\n",
    "            else:\n",
    "                adjacency_list[edge.node_from.value] = [(edge.node_to.value, edge.value)]\n",
    "        return adjacency_list\n",
    "    \n",
    "    def get_adjacency_matrix(self):\n",
    "        \"\"\"Return a matrix, or 2D list.\n",
    "        Row numbers represent from nodes,\n",
    "        column numbers represent to nodes.\n",
    "        Store the edge values in each spot,\n",
    "        and a 0 if no edge exists.\"\"\"\n",
    "        max_index = -1\n",
    "        for node in self.nodes:\n",
    "            if node.value > max_index:\n",
    "                max_index = node.value\n",
    " \n",
    "        adjacency_matrix = [[0 for i in range(max_index + 1)] for j in range(max_index + 1)]\n",
    "        for edge_object in self.edges:\n",
    "            adjacency_matrix[edge_object.node_from.value][edge_object.node_to.value] = edge_object.value\n",
    "        return adjacency_matrix\n",
    "\n",
    "graph = Graph()\n",
    "graph.insert_edge(100, 1, 2)\n",
    "graph.insert_edge(101, 1, 3)\n",
    "graph.insert_edge(102, 1, 4)\n",
    "graph.insert_edge(103, 3, 4)\n",
    "# Should be [(100, 1, 2), (101, 1, 3), (102, 1, 4), (103, 3, 4)]\n",
    "print (graph.get_edge_list())\n",
    "# Should be [None, [(2, 100), (3, 101), (4, 102)], None, [(4, 103)], None]\n",
    "print (graph.get_adjacency_list())\n",
    "# Should be [[0, 0, 0, 0, 0], [0, 0, 100, 101, 102], [0, 0, 0, 0, 0], [0, 0, 0, 0, 103], [0, 0, 0, 0, 0]]\n",
    "print (graph.get_adjacency_matrix())"
   ]
  },
  {
   "cell_type": "markdown",
   "metadata": {
    "collapsed": true,
    "outputExpanded": false
   },
   "source": [
    "The basic graph traversals show up a lot, particularly in more complicated graph-based algorithms. It's important to make sure you have a mastery before moving on!\n",
    "\n",
    "Start out by playing with this DFS and this BFS visualization until the search algorithms feel intuitive to you.\n",
    "\n",
    "Next, you'll practice writing code to do these searches in Python. We'll have the same base that we started with in the last quiz, with one exception—the Node class now has a visited flag that we can use during the traversals. Write a recursive solution for DFS and an iterative solution for BFS."
   ]
  },
  {
   "cell_type": "code",
   "execution_count": 3,
   "metadata": {
    "collapsed": false,
    "outputExpanded": false
   },
   "outputs": [
    {
     "name": "stdout",
     "output_type": "stream",
     "text": [
      "Edge List\n",
      "[ (51, 'Mountain View', 'San Francisco'),\n",
      "  (51, 'San Francisco', 'Mountain View'),\n",
      "  (9950, 'Mountain View', 'Shanghai'),\n",
      "  (9950, 'Shanghai', 'Mountain View'),\n",
      "  (10375, 'Mountain View', 'Sao Paolo'),\n",
      "  (10375, 'Sao Paolo', 'Mountain View'),\n",
      "  (9900, 'San Francisco', 'Shanghai'),\n",
      "  (9900, 'Shanghai', 'San Francisco'),\n",
      "  (9130, 'San Francisco', 'Berlin'),\n",
      "  (9130, 'Berlin', 'San Francisco'),\n",
      "  (9217, 'London', 'Shanghai'),\n",
      "  (9217, 'Shanghai', 'London'),\n",
      "  (932, 'London', 'Berlin'),\n",
      "  (932, 'Berlin', 'London'),\n",
      "  (9471, 'London', 'Sao Paolo'),\n",
      "  (9471, 'Sao Paolo', 'London')]\n",
      "\n",
      "Adjacency List\n",
      "[ [('San Francisco', 51), ('Shanghai', 9950), ('Sao Paolo', 10375)],\n",
      "  [('Mountain View', 51), ('Shanghai', 9900), ('Berlin', 9130)],\n",
      "  [('Shanghai', 9217), ('Berlin', 932), ('Sao Paolo', 9471)],\n",
      "  [('Mountain View', 9950), ('San Francisco', 9900), ('London', 9217)],\n",
      "  [('San Francisco', 9130), ('London', 932)],\n",
      "  [('Mountain View', 10375), ('London', 9471)],\n",
      "  None]\n",
      "\n",
      "Adjacency Matrix\n",
      "[ [0, 51, 0, 9950, 0, 10375, 0],\n",
      "  [51, 0, 0, 9900, 9130, 0, 0],\n",
      "  [0, 0, 0, 9217, 932, 9471, 0],\n",
      "  [9950, 9900, 9217, 0, 0, 0, 0],\n",
      "  [0, 9130, 932, 0, 0, 0, 0],\n",
      "  [10375, 0, 9471, 0, 0, 0, 0],\n",
      "  [0, 0, 0, 0, 0, 0, 0]]\n",
      "\n",
      "Depth First Search\n",
      "['London', 'Shanghai', 'Mountain View', 'San Francisco', 'Berlin', 'Sao Paolo']\n",
      "\n",
      "Breadth First Search\n",
      "['London', 'Shanghai', 'Berlin', 'Sao Paolo', 'Mountain View', 'San Francisco']\n"
     ]
    }
   ],
   "source": [
    "# For Python 2 only!!!!\n",
    "\n",
    "class Node(object):\n",
    "    def __init__(self, value):\n",
    "        self.value = value\n",
    "        self.edges = []\n",
    "        self.visited = False\n",
    "\n",
    "class Edge(object):\n",
    "    def __init__(self, value, node_from, node_to):\n",
    "        self.value = value\n",
    "        self.node_from = node_from\n",
    "        self.node_to = node_to\n",
    "\n",
    "# You only need to change code with docs strings that have TODO.\n",
    "# Specifically: Graph.dfs_helper and Graph.bfs\n",
    "# New methods have been added to associate node numbers with names\n",
    "# Specifically: Graph.set_node_names\n",
    "# and the methods ending in \"_names\" which will print names instead\n",
    "# of node numbers\n",
    "\n",
    "class Graph(object):\n",
    "    def __init__(self, nodes=None, edges=None):\n",
    "        self.nodes = nodes or []\n",
    "        self.edges = edges or []\n",
    "        self.node_names = []\n",
    "        self._node_map = {}\n",
    "\n",
    "    def set_node_names(self, names):\n",
    "        \"\"\"The Nth name in names should correspond to node number N.\n",
    "        Node numbers are 0 based (starting at 0).\n",
    "        \"\"\"\n",
    "        self.node_names = list(names)\n",
    "\n",
    "    def insert_node(self, new_node_val):\n",
    "        \"Insert a new node with value new_node_val\"\n",
    "        new_node = Node(new_node_val)\n",
    "        self.nodes.append(new_node)\n",
    "        self._node_map[new_node_val] = new_node\n",
    "        return new_node\n",
    "\n",
    "    def insert_edge(self, new_edge_val, node_from_val, node_to_val):\n",
    "        \"Insert a new edge, creating new nodes if necessary\"\n",
    "        nodes = {node_from_val: None, node_to_val: None}\n",
    "        for node in self.nodes:\n",
    "            if node.value in nodes:\n",
    "                nodes[node.value] = node\n",
    "                if all(nodes.values()):\n",
    "                    break\n",
    "        for node_val in nodes:\n",
    "            nodes[node_val] = nodes[node_val] or self.insert_node(node_val)\n",
    "        node_from = nodes[node_from_val]\n",
    "        node_to = nodes[node_to_val]\n",
    "        new_edge = Edge(new_edge_val, node_from, node_to)\n",
    "        node_from.edges.append(new_edge)\n",
    "        node_to.edges.append(new_edge)\n",
    "        self.edges.append(new_edge)\n",
    "\n",
    "    def get_edge_list(self):\n",
    "        \"\"\"Return a list of triples that looks like this:\n",
    "        (Edge Value, From Node, To Node)\"\"\"\n",
    "        return [(e.value, e.node_from.value, e.node_to.value)\n",
    "                for e in self.edges]\n",
    "\n",
    "    def get_edge_list_names(self):\n",
    "        \"\"\"Return a list of triples that looks like this:\n",
    "        (Edge Value, From Node Name, To Node Name)\"\"\"\n",
    "        return [(edge.value,\n",
    "                 self.node_names[edge.node_from.value],\n",
    "                 self.node_names[edge.node_to.value])\n",
    "                for edge in self.edges]\n",
    "\n",
    "    def get_adjacency_list(self):\n",
    "        \"\"\"Return a list of lists.\n",
    "        The indecies of the outer list represent \"from\" nodes.\n",
    "        Each section in the list will store a list\n",
    "        of tuples that looks like this:\n",
    "        (To Node, Edge Value)\"\"\"\n",
    "        max_index = self.find_max_index()\n",
    "        adjacency_list = [[] for _ in range(max_index)]\n",
    "        for edg in self.edges:\n",
    "            from_value, to_value = edg.node_from.value, edg.node_to.value\n",
    "            adjacency_list[from_value].append((to_value, edg.value))\n",
    "        return [a or None for a in adjacency_list] # replace []'s with None\n",
    "\n",
    "    def get_adjacency_list_names(self):\n",
    "        \"\"\"Each section in the list will store a list\n",
    "        of tuples that looks like this:\n",
    "        (To Node Name, Edge Value).\n",
    "        Node names should come from the names set\n",
    "        with set_node_names.\"\"\"\n",
    "        adjacency_list = self.get_adjacency_list()\n",
    "        def convert_to_names(pair, graph=self):\n",
    "            node_number, value = pair\n",
    "            return (graph.node_names[node_number], value)\n",
    "        def map_conversion(adjacency_list_for_node):\n",
    "            if adjacency_list_for_node is None:\n",
    "                return None\n",
    "            return map(convert_to_names, adjacency_list_for_node)\n",
    "        return [map_conversion(adjacency_list_for_node)\n",
    "                for adjacency_list_for_node in adjacency_list]\n",
    "\n",
    "    def get_adjacency_matrix(self):\n",
    "        \"\"\"Return a matrix, or 2D list.\n",
    "        Row numbers represent from nodes,\n",
    "        column numbers represent to nodes.\n",
    "        Store the edge values in each spot,\n",
    "        and a 0 if no edge exists.\"\"\"\n",
    "        max_index = self.find_max_index()\n",
    "        adjacency_matrix = [[0] * (max_index) for _ in range(max_index)]\n",
    "        for edg in self.edges:\n",
    "            from_index, to_index = edg.node_from.value, edg.node_to.value\n",
    "            adjacency_matrix[from_index][to_index] = edg.value\n",
    "        return adjacency_matrix\n",
    "\n",
    "    def find_max_index(self):\n",
    "        \"\"\"Return the highest found node number\n",
    "        Or the length of the node names if set with set_node_names().\"\"\"\n",
    "        if len(self.node_names) > 0:\n",
    "            return len(self.node_names)\n",
    "        max_index = -1\n",
    "        if len(self.nodes):\n",
    "            for node in self.nodes:\n",
    "                if node.value > max_index:\n",
    "                    max_index = node.value\n",
    "        return max_index\n",
    "\n",
    "    def find_node(self, node_number):\n",
    "        \"Return the node with value node_number or None\"\n",
    "        return self._node_map.get(node_number)\n",
    "    \n",
    "    def _clear_visited(self):\n",
    "        for node in self.nodes:\n",
    "            node.visited = False\n",
    "\n",
    "    def dfs_helper(self, start_node):\n",
    "        \"\"\"TODO: Write the helper function for a recursive implementation\n",
    "        of Depth First Search iterating through a node's edges. The\n",
    "        output should be a list of numbers corresponding to the\n",
    "        values of the traversed nodes.\n",
    "        ARGUMENTS: start_node is the starting Node\n",
    "        MODIFIES: the value of the visited property of nodes in self.nodes \n",
    "        RETURN: a list of the traversed node values (integers).\n",
    "        \"\"\"\n",
    "        result = [start_node.value]\n",
    "        start_node.visited = True\n",
    "        edges = [element for element in start_node.edges\n",
    "                     if element.node_to.value != start_node.value]\n",
    "        for edge in edges:\n",
    "            if not edge.node_to.visited:\n",
    "                result.extend(self.dfs_helper(edge.node_to))\n",
    "        return result\n",
    "\n",
    "    def dfs(self, start_node_num):\n",
    "        \"\"\"Outputs a list of numbers corresponding to the traversed nodes\n",
    "        in a Depth First Search.\n",
    "        ARGUMENTS: start_node_num is the starting node number (integer)\n",
    "        MODIFIES: the value of the visited property of nodes in self.nodes\n",
    "        RETURN: a list of the node values (integers).\"\"\"\n",
    "        self._clear_visited()\n",
    "        start_node = self.find_node(start_node_num)\n",
    "        return self.dfs_helper(start_node)\n",
    "\n",
    "    def dfs_names(self, start_node_num):\n",
    "        \"\"\"Return the results of dfs with numbers converted to names.\"\"\"\n",
    "        return [self.node_names[num] for num in self.dfs(start_node_num)]\n",
    "\n",
    "    def bfs(self, start_node_num):\n",
    "        \"\"\"An iterative implementation of Breadth First Search\n",
    "        iterating through a node's edges. The output should be a list of\n",
    "        numbers corresponding to the traversed nodes.\n",
    "        ARGUMENTS: start_node_num is the node number (integer)\n",
    "        MODIFIES: the value of the visited property of nodes in self.nodes\n",
    "        RETURN: a list of the node values (integers).\"\"\"\n",
    "        node = self.find_node(start_node_num)\n",
    "        self._clear_visited()\n",
    "        ret_list = []\n",
    "        # Your code here\n",
    "        queue = [node]\n",
    "        node.visited = True\n",
    "        def enqueue(n, q=queue):\n",
    "            n.visited = True\n",
    "            q.append(n)\n",
    "        def unvisited_outgoing_edge(n, e):\n",
    "            return ((e.node_from.value == n.value) and\n",
    "                    (not e.node_to.visited))\n",
    "        while queue:\n",
    "            node = queue.pop(0)\n",
    "            ret_list.append(node.value)\n",
    "            for e in node.edges:\n",
    "                if unvisited_outgoing_edge(node, e):\n",
    "                    enqueue(e.node_to)\n",
    "        return ret_list\n",
    "\n",
    "    def bfs_names(self, start_node_num):\n",
    "        \"\"\"Return the results of bfs with numbers converted to names.\"\"\"\n",
    "        return [self.node_names[num] for num in self.bfs(start_node_num)]\n",
    "\n",
    "graph = Graph()\n",
    "\n",
    "# You do not need to change anything below this line.\n",
    "# You only need to implement Graph.dfs_helper and Graph.bfs\n",
    "\n",
    "graph.set_node_names(('Mountain View',   # 0\n",
    "                      'San Francisco',   # 1\n",
    "                      'London',          # 2\n",
    "                      'Shanghai',        # 3\n",
    "                      'Berlin',          # 4\n",
    "                      'Sao Paolo',       # 5\n",
    "                      'Bangalore'))      # 6 \n",
    "\n",
    "graph.insert_edge(51, 0, 1)     # MV <-> SF\n",
    "graph.insert_edge(51, 1, 0)     # SF <-> MV\n",
    "graph.insert_edge(9950, 0, 3)   # MV <-> Shanghai\n",
    "graph.insert_edge(9950, 3, 0)   # Shanghai <-> MV\n",
    "graph.insert_edge(10375, 0, 5)  # MV <-> Sao Paolo\n",
    "graph.insert_edge(10375, 5, 0)  # Sao Paolo <-> MV\n",
    "graph.insert_edge(9900, 1, 3)   # SF <-> Shanghai\n",
    "graph.insert_edge(9900, 3, 1)   # Shanghai <-> SF\n",
    "graph.insert_edge(9130, 1, 4)   # SF <-> Berlin\n",
    "graph.insert_edge(9130, 4, 1)   # Berlin <-> SF\n",
    "graph.insert_edge(9217, 2, 3)   # London <-> Shanghai\n",
    "graph.insert_edge(9217, 3, 2)   # Shanghai <-> London\n",
    "graph.insert_edge(932, 2, 4)    # London <-> Berlin\n",
    "graph.insert_edge(932, 4, 2)    # Berlin <-> London\n",
    "graph.insert_edge(9471, 2, 5)   # London <-> Sao Paolo\n",
    "graph.insert_edge(9471, 5, 2)   # Sao Paolo <-> London\n",
    "# (6) 'Bangalore' is intentionally disconnected (no edges)\n",
    "# for this problem and should produce None in the\n",
    "# Adjacency List, etc.\n",
    "\n",
    "import pprint\n",
    "pp = pprint.PrettyPrinter(indent=2)\n",
    "\n",
    "print \"Edge List\"\n",
    "pp.pprint(graph.get_edge_list_names())\n",
    "\n",
    "print \"\\nAdjacency List\"\n",
    "pp.pprint(graph.get_adjacency_list_names())\n",
    "\n",
    "print \"\\nAdjacency Matrix\"\n",
    "pp.pprint(graph.get_adjacency_matrix())\n",
    "\n",
    "print \"\\nDepth First Search\"\n",
    "pp.pprint(graph.dfs_names(2))\n",
    "\n",
    "# Should print:\n",
    "# Depth First Search\n",
    "# ['London', 'Shanghai', 'Mountain View', 'San Francisco', 'Berlin', 'Sao Paolo']\n",
    "\n",
    "print \"\\nBreadth First Search\"\n",
    "pp.pprint(graph.bfs_names(2))\n",
    "# test error reporting\n",
    "# pp.pprint(['Sao Paolo', 'Mountain View', 'San Francisco', 'London', 'Shanghai', 'Berlin'])\n",
    "\n",
    "# Should print:\n",
    "# Breadth First Search\n",
    "# ['London', 'Shanghai', 'Berlin', 'Sao Paolo', 'Mountain View', 'San Francisco']"
   ]
  },
  {
   "cell_type": "code",
   "execution_count": null,
   "metadata": {
    "collapsed": true
   },
   "outputs": [],
   "source": [
    "def bfs(self, start_node_num):\n",
    "        \"\"\"An iterative implementation of Breadth First Search\n",
    "        iterating through a node's edges. The output should be a list of\n",
    "        numbers corresponding to the traversed nodes.\n",
    "        ARGUMENTS: start_node_num is the node number (integer)\n",
    "        MODIFIES: the value of the visited property of nodes in self.nodes\n",
    "        RETURN: a list of the node values (integers).\"\"\"\n",
    "        node = self.find_node(start_node_num)\n",
    "        self._clear_visited()\n",
    "        ret_list = []\n",
    "        # Your code here\n",
    "        queue = [node]\n",
    "        node.visited = True\n",
    "        def enqueue(n, q=queue):\n",
    "            n.visited = True\n",
    "            q.append(n)\n",
    "        def unvisited_outgoing_edge(n, e):\n",
    "            return ((e.node_from.value == n.value) and\n",
    "                    (not e.node_to.visited))\n",
    "        while queue:\n",
    "            node = queue.pop(0)\n",
    "            ret_list.append(node.value)\n",
    "            for e in node.edges:\n",
    "                if unvisited_outgoing_edge(node, e):\n",
    "                    enqueue(e.node_to)\n",
    "        return ret_list"
   ]
  },
  {
   "cell_type": "markdown",
   "metadata": {
    "outputExpanded": false
   },
   "source": [
    "####  &#x1F4D1; &nbsp; 7. Case Studies in Algorithms"
   ]
  },
  {
   "cell_type": "code",
   "execution_count": 2,
   "metadata": {
    "collapsed": false
   },
   "outputs": [
    {
     "data": {
      "image/png": "[encoded data removed]",
      "text/plain": [
       "<matplotlib.figure.Figure at 0x1049be9b0>"
      ]
     },
     "metadata": {},
     "output_type": "display_data"
    }
   ],
   "source": [
    "import networkx as nx\n",
    "import matplotlib.pyplot as plt\n",
    "% matplotlib inline\n",
    "G = {'A': [('B', 2), ('D', 6), ('G', 4), ('J', 3)],\n",
    "     'B': [('A', 2), ('C', 5)], \n",
    "     'C': [('B', 5), ('E', 5)],\n",
    "     'D': [('A', 6), ('E', 8)],\n",
    "     'E': [('C', 5), ('D', 8), ('F', 3)],\n",
    "     'F': [('E', 3), ('G', 7)],\n",
    "     'G': [('A', 4), ('F', 7), ('H', 8), ('I', 3)],\n",
    "     'H': [('G', 8)], \n",
    "     'I': [('G', 3), ('J', 7)],\n",
    "     'J': [('A', 3), ('I', 7)]}\n",
    "edges = []\n",
    "for node1, ws in G.items():\n",
    "    for (node2, w) in ws:\n",
    "        edges.append((node1, node2, w))\n",
    "\n",
    "g = nx.Graph()\n",
    "for (node1, node2, way) in edges:\n",
    "    g.add_edge(node1, node2, length=way)\n",
    "    \n",
    "pos=nx.spring_layout(g)\n",
    "nx.draw(g, pos)"
   ]
  },
  {
   "cell_type": "code",
   "execution_count": 3,
   "metadata": {
    "collapsed": false
   },
   "outputs": [],
   "source": [
    "lines = ['1 2 4 7 10', '2 3', '3 5', '4 5', '5 6', '6 7 11 12', \n",
    "         '7 8 9', '8 11 12', '9 10', '10 11', '11', '12']       \n",
    "g1 = nx.parse_adjlist(lines, nodetype = int)"
   ]
  },
  {
   "cell_type": "markdown",
   "metadata": {
    "collapsed": true
   },
   "source": [
    "##### Shortest Path Problem"
   ]
  },
  {
   "cell_type": "code",
   "execution_count": 4,
   "metadata": {
    "collapsed": false
   },
   "outputs": [
    {
     "name": "stdout",
     "output_type": "stream",
     "text": [
      "[(3, 5), (5, 6), (6, 11)]\n"
     ]
    },
    {
     "data": {
      "text/plain": [
       "<matplotlib.collections.LineCollection at 0x11060e390>"
      ]
     },
     "execution_count": 4,
     "metadata": {},
     "output_type": "execute_result"
    },
    {
     "data": {
      "image/png": "[encoded data removed]",
      "text/plain": [
       "<matplotlib.figure.Figure at 0x110667080>"
      ]
     },
     "metadata": {},
     "output_type": "display_data"
    }
   ],
   "source": [
    "pos=nx.spring_layout(g1)\n",
    "nodes = nx.shortest_path(g1, 3, 11)\n",
    "shortest_path = []\n",
    "for i in range(len(nodes)-1):   \n",
    "    shortest_path.append((nodes[i], nodes[i+1]))\n",
    "print (shortest_path)\n",
    "nx.draw(g1, pos, with_labels=True, node_shape='8', node_size=1000, \n",
    "        node_color='lightgreen', edge_color='forestgreen', width=7, alpha=0.7)\n",
    "nx.draw_networkx_edges(g1, pos=pos, edgelist=shortest_path,\n",
    "                       edge_color = 'steelblue', width=10, alpha=0.5)"
   ]
  },
  {
   "cell_type": "markdown",
   "metadata": {
    "collapsed": true
   },
   "source": [
    "##### Dijkstra's Algorithm"
   ]
  },
  {
   "cell_type": "code",
   "execution_count": 5,
   "metadata": {
    "collapsed": false,
    "outputExpanded": false
   },
   "outputs": [
    {
     "name": "stdout",
     "output_type": "stream",
     "text": [
      "['A', 'J', 'I']\n"
     ]
    }
   ],
   "source": [
    "print(nx.dijkstra_path(g,'A','I'))"
   ]
  },
  {
   "cell_type": "code",
   "execution_count": 6,
   "metadata": {
    "collapsed": false
   },
   "outputs": [
    {
     "name": "stdout",
     "output_type": "stream",
     "text": [
      "[2, 1, 7, 8, 12]\n"
     ]
    }
   ],
   "source": [
    "print(nx.dijkstra_path(g1,2,12))"
   ]
  },
  {
   "cell_type": "markdown",
   "metadata": {
    "collapsed": true,
    "outputExpanded": false
   },
   "source": [
    "##### Knapsack Problem\n",
    "Given items of different values and volumes, find the most valuable set of items that fit in a knapsack of fixed volume."
   ]
  },
  {
   "cell_type": "code",
   "execution_count": 7,
   "metadata": {
    "collapsed": false,
    "outputExpanded": false
   },
   "outputs": [
    {
     "data": {
      "text/plain": [
       "(142, [1, 2, 4, 5, 7])"
      ]
     },
     "execution_count": 7,
     "metadata": {},
     "output_type": "execute_result"
    }
   ],
   "source": [
    "# Dynamic Optimization\n",
    "import knapsack\n",
    "size = [36, 12, 15, 22, 67, 45, 89, 52]\n",
    "weight = [22, 12, 16, 10, 35, 26, 42, 53]\n",
    "capacity = 200\n",
    "knapsack.knapsack(size, weight).solve(capacity)"
   ]
  },
  {
   "cell_type": "code",
   "execution_count": 25,
   "metadata": {
    "collapsed": false
   },
   "outputs": [],
   "source": [
    "# https://sites.google.com/site/mikescoderama/Home/0-1-knapsack-problem-in-p\n",
    "import numpy as np\n",
    "def zeroOneKnapsack(v, w, W):\n",
    "    c = []\n",
    "    n = len(v)\n",
    "    c = np.zeros(n,W+1)\n",
    "    for i in range(0,n):\n",
    "        for j in range(0,W+1):\n",
    "            if (w[i] > j):\n",
    "                c[i][j] = c[i-1][j]\n",
    "            else:\n",
    "                c[i][j] = max(c[i-1][j],v[i] +c[i-1][j-w[i]])\n",
    "    return [c[n-1][W], getUsedItems(w,c)]\n",
    "\n",
    "def getUsedItems(w,c):\n",
    "    i = len(c)-1\n",
    "    currentW =  len(c[0])-1\n",
    "    marked = []\n",
    "    for i in range(i+1):\n",
    "        marked.append(0)\n",
    "    while (i >= 0 and currentW >=0):\n",
    "        if (i==0 and c[i][currentW] >0 )or c[i][currentW] != c[i-1][currentW]:\n",
    "            marked[i] =1\n",
    "            currentW = currentW-w[i]\n",
    "        i = i-1\n",
    "    return marked\n",
    "# zeroOneKnapsack()"
   ]
  },
  {
   "cell_type": "markdown",
   "metadata": {},
   "source": [
    "##### Dynamic Programming"
   ]
  },
  {
   "cell_type": "code",
   "execution_count": 11,
   "metadata": {
    "collapsed": false
   },
   "outputs": [
    {
     "name": "stdout",
     "output_type": "stream",
     "text": [
      "Making change for 63 requires\n",
      "3 coins\n",
      "They are:\n",
      "21\n",
      "21\n",
      "21\n",
      "The used list is as follows:\n",
      "[1, 1, 1, 1, 1, 5, 1, 1, 1, 1, 10, 1, 1, 1, 1, 5, 1, 1, 1, 1, 10, 21, 1, 1, 1, 25, 1, 1, 1, 1, 5, 10, 1, 1, 1, 10, 1, 1, 1, 1, 5, 10, 21, 1, 1, 10, 21, 1, 1, 1, 25, 1, 10, 1, 1, 5, 10, 1, 1, 1, 10, 1, 10, 21]\n"
     ]
    }
   ],
   "source": [
    "# Change Problem https://interactivepython.org/runestone/static/pythonds/Recursion/DynamicProgramming.html\n",
    "\n",
    "def dpMakeChange(coinValueList,change,minCoins,coinsUsed):\n",
    "   for cents in range(change+1):\n",
    "      coinCount = cents\n",
    "      newCoin = 1\n",
    "      for j in [c for c in coinValueList if c <= cents]:\n",
    "            if minCoins[cents-j] + 1 < coinCount:\n",
    "               coinCount = minCoins[cents-j]+1\n",
    "               newCoin = j\n",
    "      minCoins[cents] = coinCount\n",
    "      coinsUsed[cents] = newCoin\n",
    "   return minCoins[change]\n",
    "\n",
    "def printCoins(coinsUsed,change):\n",
    "   coin = change\n",
    "   while coin > 0:\n",
    "      thisCoin = coinsUsed[coin]\n",
    "      print(thisCoin)\n",
    "      coin = coin - thisCoin\n",
    "\n",
    "def main():\n",
    "    amnt = 63\n",
    "    clist = [1,5,10,21,25]\n",
    "    coinsUsed = [0]*(amnt+1)\n",
    "    coinCount = [0]*(amnt+1)\n",
    "    print(\"Making change for\",amnt,\"requires\")\n",
    "    print(dpMakeChange(clist,amnt,coinCount,coinsUsed),\"coins\")\n",
    "    print(\"They are:\")\n",
    "    printCoins(coinsUsed,amnt)\n",
    "    print(\"The used list is as follows:\")\n",
    "    print(coinsUsed)\n",
    "\n",
    "main()"
   ]
  },
  {
   "cell_type": "markdown",
   "metadata": {},
   "source": [
    "##### Traveling Salesman Problem"
   ]
  },
  {
   "cell_type": "code",
   "execution_count": null,
   "metadata": {
    "collapsed": true
   },
   "outputs": [],
   "source": []
  },
  {
   "cell_type": "markdown",
   "metadata": {},
   "source": [
    "##### Exact and Approximate Algorithms"
   ]
  },
  {
   "cell_type": "code",
   "execution_count": null,
   "metadata": {
    "collapsed": true,
    "outputExpanded": false
   },
   "outputs": [],
   "source": []
  },
  {
   "cell_type": "markdown",
   "metadata": {},
   "source": [
    "####  &#x1F4D1; &nbsp; 8. Technical Interviewing Techniques"
   ]
  },
  {
   "cell_type": "markdown",
   "metadata": {
    "collapsed": true,
    "outputExpanded": false
   },
   "source": [
    "Here are some additional resources various Udacity staff members have recommended that you can use to prepare for your technical interviews (in order, with the most recommended at the top of each list): \n",
    "\n",
    "### Live Practice:\n",
    "https://www.pramp.com/\n",
    "### Websites: \n",
    "#### HackerRank: Website and community with programming challeges that you can go through for additional practice.\n",
    "https://www.hackerrank.com/\n",
    "#### Project Euler: This website has a ton of logic problems that you can practice writing coded solutions to.\n",
    "https://projecteuler.net/\n",
    "#### Interview Cake: Practice questions and some tutorials available.\n",
    "https://www.interviewcake.com/\n",
    "#### Interactive Python: Loads of tutorials on pretty much every topic covered here and many more, along with Python examples and concept questions.\n",
    "http://interactivepython.org/runestone/static/pythonds/index.html\n",
    "#### Topcoder: New practice problems every day, and some tech companies use answers to those problems to find new potential hires.\n",
    "https://www.topcoder.com/\n",
    "#### LeetCode: Practice problems, mock interviews, and articles about problems.\n",
    "https://leetcode.com/\n",
    "#### BigO Cheat Sheet: Summary of efficiencies for most common algorithms and data structures.\n",
    "http://bigocheatsheet.com/\n",
    "### Books \n",
    "#### Cracking the Coding Interview by Gayle Laakmann McDowell\n",
    "#### Introduction to Algorithms by Charles E. Leiserson, Clifford Stein, Ronald Rivest, and Thomas H. Cormen\n",
    "#### Programming Interviews Exposed by John Morgan, Noah Kindler, and Eric Giguere\n",
    "#### Algorithms, 4th Edition by Robert Sedgewick and Kevin Wayne\n",
    "http://algs4.cs.princeton.edu/home/\n",
    "#### Elements of Programming Interviews by Adnan Aziz\n",
    "### Github Repository (Collections of Problems) \n",
    "#### The Coding Interview\n",
    "https://github.com/mre/the-coding-interview\n",
    "#### HTML5 Boilerplate Interview Questions\n",
    "https://github.com/h5bp/Front-end-Developer-Interview-Questions\n",
    "### Blog Posts \n",
    "#### Five Essential Phone Screen Questions\n",
    "https://sites.google.com/site/steveyegge2/five-essential-phone-screen-questions"
   ]
  }
 ],
 "metadata": {
  "anaconda-cloud": {},
  "gist_id": "c302dd3875a0e05c4c4d39ce3796cb78",
  "hide_input": false,
  "kernel_info": {
   "name": "python3"
  },
  "kernelspec": {
   "display_name": "Python [conda root]",
   "language": "python",
   "name": "conda-root-py"
  },
  "language_info": {
   "codemirror_mode": {
    "name": "ipython",
    "version": 3
   },
   "file_extension": ".py",
   "mimetype": "text/x-python",
   "name": "python",
   "nbconvert_exporter": "python",
   "pygments_lexer": "ipython3",
   "version": "3.5.2"
  },
  "latex_envs": {
   "bibliofile": "biblio.bib",
   "cite_by": "apalike",
   "current_citInitial": 1,
   "eqLabelWithNumbers": true,
   "eqNumInitial": 0
  }
 },
 "nbformat": 4,
 "nbformat_minor": 2
}
