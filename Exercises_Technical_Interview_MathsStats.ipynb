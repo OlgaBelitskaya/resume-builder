{
 "cells": [
  {
   "cell_type": "code",
   "execution_count": 8,
   "metadata": {
    "collapsed": false
   },
   "outputs": [
    {
     "ename": "ERROR",
     "evalue": "Error in library(geojsonio): there is no package called ‘geojsonio’\n",
     "output_type": "error",
     "traceback": [
      "Error in library(geojsonio): there is no package called ‘geojsonio’\nTraceback:\n",
      "1. library(geojsonio)",
      "2. stop(txt, domain = NA)"
     ]
    }
   ],
   "source": [
    "library(plotly)\n",
    "library(ggplot2)\n",
    "library(ggmap)\n",
    "library(formattable)\n",
    "library(osmar)\n",
    "library(RColorBrewer)\n",
    "library(RSQLite)\n",
    "library(sqldf)\n",
    "library(mongolite)\n",
    "library(jsonlite)\n",
    "library(rio)\n",
    "library(bigmemory)\n",
    "# library(ggforce)\n",
    "library(dygraphs)\n",
    "library(leaflet)\n",
    "library(DT)\n",
    "library(igraph)\n",
    "library(geojsonio)"
   ]
  },
  {
   "cell_type": "code",
   "execution_count": 7,
   "metadata": {
    "collapsed": false
   },
   "outputs": [],
   "source": [
    "# install.packages('')"
   ]
  },
  {
   "cell_type": "markdown",
   "metadata": {},
   "source": [
    "###  &#x1F4D1; &nbsp; Links\n",
    "\n",
    "http://www.quantide.com/wp-content/uploads/2017/02/Three-way-Anova-with-R.pdf"
   ]
  },
  {
   "cell_type": "markdown",
   "metadata": {},
   "source": [
    "###  &#x1F4D1; &nbsp; Maths"
   ]
  },
  {
   "cell_type": "code",
   "execution_count": null,
   "metadata": {
    "collapsed": true
   },
   "outputs": [],
   "source": []
  },
  {
   "cell_type": "code",
   "execution_count": 22,
   "metadata": {
    "collapsed": false
   },
   "outputs": [],
   "source": [
    "a <- 0\n",
    "b <- 0\n",
    "c <- 0\n",
    "s <- 1000000\n",
    "found <- FALSE\n",
    "for (a in 1:floor((s/3))) {\n",
    "    for (b in a:(s/2)) {\n",
    "        c <- s - a - b\n",
    "        if (a^3 + b^3 == c^3) {\n",
    "            found <- TRUE\n",
    "            break\n",
    "        }\n",
    "    }\n",
    "    if (found) \n",
    "        break\n",
    "}\n",
    "ternary <- c(a,b,c)\n",
    "answer <- a * b * c"
   ]
  },
  {
   "cell_type": "code",
   "execution_count": 23,
   "metadata": {
    "collapsed": false
   },
   "outputs": [
    {
     "data": {
      "text/html": [
       "<ol class=list-inline>\n",
       "\t<li>2</li>\n",
       "\t<li>499999</li>\n",
       "\t<li>499999</li>\n",
       "</ol>\n"
      ],
      "text/latex": [
       "\\begin{enumerate*}\n",
       "\\item 2\n",
       "\\item 499999\n",
       "\\item 499999\n",
       "\\end{enumerate*}\n"
      ],
      "text/markdown": [
       "1. 2\n",
       "2. 499999\n",
       "3. 499999\n",
       "\n",
       "\n"
      ],
      "text/plain": [
       "[1]      2 499999 499999"
      ]
     },
     "metadata": {},
     "output_type": "display_data"
    }
   ],
   "source": [
    "ternary"
   ]
  },
  {
   "cell_type": "code",
   "execution_count": 24,
   "metadata": {
    "collapsed": false
   },
   "outputs": [
    {
     "data": {
      "text/html": [
       "499998000002"
      ],
      "text/latex": [
       "499998000002"
      ],
      "text/markdown": [
       "499998000002"
      ],
      "text/plain": [
       "[1] 4.99998e+11"
      ]
     },
     "metadata": {},
     "output_type": "display_data"
    }
   ],
   "source": [
    "answer"
   ]
  },
  {
   "cell_type": "code",
   "execution_count": null,
   "metadata": {
    "collapsed": true
   },
   "outputs": [],
   "source": []
  },
  {
   "cell_type": "code",
   "execution_count": null,
   "metadata": {
    "collapsed": true
   },
   "outputs": [],
   "source": []
  },
  {
   "cell_type": "markdown",
   "metadata": {},
   "source": [
    "###  &#x1F4D1; &nbsp; Statistics"
   ]
  },
  {
   "cell_type": "code",
   "execution_count": null,
   "metadata": {
    "collapsed": true
   },
   "outputs": [],
   "source": []
  }
 ],
 "metadata": {
  "anaconda-cloud": {},
  "hide_input": false,
  "kernelspec": {
   "display_name": "R 3.3",
   "language": "R",
   "name": "ir33"
  },
  "language_info": {
   "codemirror_mode": "r",
   "file_extension": ".r",
   "mimetype": "text/x-r-source",
   "name": "R",
   "pygments_lexer": "r",
   "version": "3.3.2"
  },
  "latex_envs": {
   "bibliofile": "biblio.bib",
   "cite_by": "apalike",
   "current_citInitial": 1,
   "eqLabelWithNumbers": true,
   "eqNumInitial": 0
  }
 },
 "nbformat": 4,
 "nbformat_minor": 0
}
