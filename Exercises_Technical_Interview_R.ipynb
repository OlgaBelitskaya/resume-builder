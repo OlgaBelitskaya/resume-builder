{
 "cells": [
  {
   "cell_type": "markdown",
   "metadata": {},
   "source": [
    "###  &#x1F4D1; &nbsp; Links\n",
    "https://www.r-bloggers.com/quicksort-speed-just-in-time-compiling-and-vectorizing/\n",
    "\n",
    "http://www.numbertheory.nl/"
   ]
  },
  {
   "cell_type": "markdown",
   "metadata": {},
   "source": [
    "###  &#x1F4D1; &nbsp; Sorting"
   ]
  },
  {
   "cell_type": "markdown",
   "metadata": {},
   "source": [
    "#### Bubble sort"
   ]
  },
  {
   "cell_type": "code",
   "execution_count": 1,
   "metadata": {
    "collapsed": false
   },
   "outputs": [],
   "source": [
    "larger = function(pair) {\n",
    "   if(pair[1] > pair[2]) return(TRUE) else return(FALSE)\n",
    "}"
   ]
  },
  {
   "cell_type": "code",
   "execution_count": 2,
   "metadata": {
    "collapsed": true
   },
   "outputs": [],
   "source": [
    "swap_if_larger = function(pair) {\n",
    "    if(larger(pair)) {\n",
    "        return(rev(pair)) \n",
    "    } else {\n",
    "        return(pair)\n",
    "    }\n",
    "}"
   ]
  },
  {
   "cell_type": "code",
   "execution_count": 3,
   "metadata": {
    "collapsed": true
   },
   "outputs": [],
   "source": [
    "swap_pass = function(vec) { \n",
    "    for(i in seq(1, length(vec)-1)) {\n",
    "        vec[i:(i+1)] = swap_if_larger(vec[i:(i+1)])\n",
    "    }\n",
    "    return(vec)\n",
    "}"
   ]
  },
  {
   "cell_type": "code",
   "execution_count": 4,
   "metadata": {
    "collapsed": true
   },
   "outputs": [],
   "source": [
    "bubble_sort = function(vec) {\n",
    "    new_vec = swap_pass(vec)\n",
    "    if(isTRUE(all.equal(vec, new_vec))) { \n",
    "        return(new_vec) \n",
    "    } else {\n",
    "        return(bubble_sort(new_vec))\n",
    "    }\n",
    "}"
   ]
  },
  {
   "cell_type": "code",
   "execution_count": 5,
   "metadata": {
    "collapsed": false
   },
   "outputs": [
    {
     "name": "stdout",
     "output_type": "stream",
     "text": [
      "  [1]  10 821  50 526 982 191 787 139 780 859 670 109 459 253 815 318 406 529\n",
      " [19] 730 830 280 119  71 786 212 369 550 684 320 743 560 400 934 249 510 816\n",
      " [37] 729 319 909  99 458 866 876 841 454 318 240 761 982 752 222 501 297 532\n",
      " [55] 676 291 681  13 566 843 576 282 561 296 614 763 261 518 115 615 301 828\n",
      " [73] 773 231 336 826 639 189 583 141 132 855 649 736 525 825 858 947 716 589\n",
      " [91] 495 389 486 341 700 176 344 200  65   6\n",
      "  [1]   6  10  13  50  65  71  99 109 115 119 132 139 141 176 189 191 200 212\n",
      " [19] 222 231 240 249 253 261 280 282 291 296 297 301 318 318 319 320 336 341\n",
      " [37] 344 369 389 400 406 454 458 459 486 495 501 510 518 525 526 529 532 550\n",
      " [55] 560 561 566 576 583 589 614 615 639 649 670 676 681 684 700 716 729 730\n",
      " [73] 736 743 752 761 763 773 780 786 787 815 816 821 825 826 828 830 841 843\n",
      " [91] 855 858 859 866 876 909 934 947 982 982\n"
     ]
    }
   ],
   "source": [
    "vector = round(runif(100, 0, 1000))\n",
    "print(vector)\n",
    "print(bubble_sort(vector))"
   ]
  },
  {
   "cell_type": "code",
   "execution_count": 6,
   "metadata": {
    "collapsed": false
   },
   "outputs": [
    {
     "name": "stdout",
     "output_type": "stream",
     "text": [
      "   user  system elapsed \n",
      "  0.141   0.005   0.148 \n",
      "   user  system elapsed \n",
      "  0.000   0.000   0.001 \n"
     ]
    }
   ],
   "source": [
    "print(system.time(bubble_sort(vector)))\n",
    "print(system.time(sort(vector)))"
   ]
  },
  {
   "cell_type": "markdown",
   "metadata": {},
   "source": [
    "#### Quick Sort"
   ]
  },
  {
   "cell_type": "code",
   "execution_count": 7,
   "metadata": {
    "collapsed": true
   },
   "outputs": [],
   "source": [
    "#!/usr/bin/env Rscript\n",
    "# Author:  Jason A. French\n",
    "\n",
    "quickSort <- function(vect) {\n",
    "  # Args:\n",
    "  #  vect: Numeric Vector\n",
    "  \n",
    "  # Stop if vector has length of 1\n",
    "  if (length(vect) <= 1) {\n",
    "      return(vect)\n",
    "  }\n",
    "  # Pick an element from the vector\n",
    "  element <- vect[1]\n",
    "  partition <- vect[-1]\n",
    "  # Reorder vector so that integers less than element\n",
    "  # come before, and all integers greater come after.\n",
    "  v1 <- partition[partition < element]\n",
    "  v2 <- partition[partition >= element]\n",
    "  # Recursively apply steps to smaller vectors.\n",
    "  v1 <- quickSort(v1)\n",
    "  v2 <- quickSort(v2)\n",
    "  return(c(v1, element, v2))\n",
    "}"
   ]
  },
  {
   "cell_type": "code",
   "execution_count": 8,
   "metadata": {
    "collapsed": false
   },
   "outputs": [
    {
     "name": "stdout",
     "output_type": "stream",
     "text": [
      "  [1]  158   76   60   52  838  447  442  131  451  614  432  795  580  155  499\n",
      " [16]  921  104  848   88  291  770  485  979  539  533  948  295   85  319  907\n",
      " [31]  898  275  414  743  156  421   45  916  490  243  424  510  182  942  966\n",
      " [46]  708  193  461  172  892  981  940  865  513  612  183  741  200  872  439\n",
      " [61]  657  420  634  304   87  844  353  563  437  815  762  390  258  744  191\n",
      " [76]  956  139  143  503  753  355  821  545  823  240  221  387  576  393   49\n",
      " [91]  944  754  834  296  498  809  566  167  278  453  422  450  114  764  485\n",
      "[106]  431   61  385  844   33  594  991  455  127  955  818  122  494  980  412\n",
      "[121]  797  931  565  887  324  990 1000  872  191  839  454  822  122  230  468\n",
      "[136]   60   17  466  502  496   93  319  668  514  279  257  558  797  624  590\n",
      "[151]  950  737  676  818  449  854  353  567  640  739   67   11  429  773  358\n",
      "[166]  255  590  546  754  456  160   48  340  657  608  486  820  214  911  542\n",
      "[181]  900  754  561  166  820   87  760  539  844  646  720  510  100  109  484\n",
      "[196]  948  800  150  601    6\n",
      "  [1]    6   11   17   33   45   48   49   52   60   60   61   67   76   85   87\n",
      " [16]   87   88   93  100  104  109  114  122  122  127  131  139  143  150  155\n",
      " [31]  156  158  160  166  167  172  182  183  191  191  193  200  214  221  230\n",
      " [46]  240  243  255  257  258  275  278  279  291  295  296  304  319  319  324\n",
      " [61]  340  353  353  355  358  385  387  390  393  412  414  420  421  422  424\n",
      " [76]  429  431  432  437  439  442  447  449  450  451  453  454  455  456  461\n",
      " [91]  466  468  484  485  485  486  490  494  496  498  499  502  503  510  510\n",
      "[106]  513  514  533  539  539  542  545  546  558  561  563  565  566  567  576\n",
      "[121]  580  590  590  594  601  608  612  614  624  634  640  646  657  657  668\n",
      "[136]  676  708  720  737  739  741  743  744  753  754  754  754  760  762  764\n",
      "[151]  770  773  795  797  797  800  809  815  818  818  820  820  821  822  823\n",
      "[166]  834  838  839  844  844  844  848  854  865  872  872  887  892  898  900\n",
      "[181]  907  911  916  921  931  940  942  944  948  948  950  955  956  966  979\n",
      "[196]  980  981  990  991 1000\n"
     ]
    }
   ],
   "source": [
    "vector = round(runif(200, 0, 1000))\n",
    "print(vector)\n",
    "print(quickSort(vector))"
   ]
  },
  {
   "cell_type": "code",
   "execution_count": 9,
   "metadata": {
    "collapsed": false
   },
   "outputs": [
    {
     "name": "stdout",
     "output_type": "stream",
     "text": [
      "   user  system elapsed \n",
      "  0.002   0.000   0.001 \n",
      "   user  system elapsed \n",
      "  0.000   0.000   0.001 \n"
     ]
    }
   ],
   "source": [
    "print(system.time(quickSort(vector)))\n",
    "print(system.time(sort(vector)))"
   ]
  },
  {
   "cell_type": "markdown",
   "metadata": {},
   "source": [
    "##### Wikipedia\n",
    "function simplequicksort(array)\n",
    "\n",
    "    less, equal, greater := three empty arrays\n",
    "    \n",
    "    if length(array) > 1  \n",
    "    \n",
    "        pivot := select any element of array\n",
    "        \n",
    "        for each x in array\n",
    "        \n",
    "            if x < pivot then add x to less\n",
    "            \n",
    "            if x = pivot then add x to equal\n",
    "            \n",
    "            if x > pivot then add x to greater\n",
    "            \n",
    "        simplequicksort(less)\n",
    "        \n",
    "        simplequicksort(greater)\n",
    "        \n",
    "        array := concatenate(less, equal, greater)"
   ]
  },
  {
   "cell_type": "markdown",
   "metadata": {},
   "source": [
    "#### Merge Sort"
   ]
  },
  {
   "cell_type": "code",
   "execution_count": 10,
   "metadata": {
    "collapsed": true
   },
   "outputs": [],
   "source": [
    "#!/usr/bin/env Rscript\n",
    "# http://rosettacode.org/wiki/Sorting_algorithms/Merge_sort#R\n",
    "\n",
    "mergesort <- function(m)\n",
    "\n",
    "{\n",
    "   merge_ <- function(left, right)\n",
    "   # Recursive function to compare and append values in order\n",
    "   {\n",
    "      # Create a list to hold the results\n",
    "      result <- c()\n",
    "      # This is our stop condition. While left and right contain \n",
    "      # a value, compare them\n",
    "      while(length(left) > 0 && length(right) > 0)\n",
    "      {\n",
    "           # If left is less than or equal to right,\n",
    "           # add it to the result list\n",
    "         if(left[1] <= right[1])\n",
    "         {\n",
    "            result <- c(result, left[1])\n",
    "            # Remove the value from the list\n",
    "            left <- left[-1]\n",
    "         } else\n",
    "         {\n",
    "            # When right is less than or equal to left,\n",
    "            # add it to the result.\n",
    "            result <- c(result, right[1])\n",
    "            # Remove the appended integer from the list.\n",
    "            right <- right[-1]\n",
    "         }\n",
    "      }\n",
    "      # Keep appending the values to the result while left and right\n",
    "      # exist.\n",
    "      if(length(left) > 0) result <- c(result, left)\n",
    "      if(length(right) > 0) result <- c(result, right)\n",
    "      result\n",
    "   }\n",
    "\n",
    "   # Below is our stop condition for the mergesort function.\n",
    "   # When the length of the vector is 1, just return the integer. \n",
    "   len <- length(m)\n",
    "   if(len <= 1) m else\n",
    "   {\n",
    "      # Otherwise keep dividing the vector into two halves.\n",
    "      middle <- length(m) / 2\n",
    "      # Add every integer from 1 to the middle to the left\n",
    "      left <- m[1:floor(middle)]\n",
    "      right <- m[floor(middle+1):len]\n",
    "      # Recursively call mergesort() on the left and right halves.\n",
    "      left <- mergesort(left)\n",
    "      right <- mergesort(right)\n",
    "      # Order and combine the results.\n",
    "      if(left[length(left)] <= right[1])\n",
    "      {\n",
    "         c(left, right)\n",
    "      } else\n",
    "      {\n",
    "         merge_(left, right)\n",
    "      }\n",
    "   }\n",
    "}"
   ]
  },
  {
   "cell_type": "code",
   "execution_count": 11,
   "metadata": {
    "collapsed": false
   },
   "outputs": [
    {
     "name": "stdout",
     "output_type": "stream",
     "text": [
      "  [1] 499 160 985 837 750 975 926 142 426 705 934 143 748 202 611 846 671 561\n",
      " [19] 949 119 570 371 535 398 907 833 698 987 458 167 674 944 855  81 257  16\n",
      " [37] 236 731 554 549 853 635 415 537 288 265 231  87  33 221 207 820 104 494\n",
      " [55]  33 460  77 673 167 185 498 666 166 709 329 878 911 606 482 821 524 435\n",
      " [73] 330 842  41 702 727  26 903 341 204 862 347 622 885 139 949 700 499 955\n",
      " [91] 790 654 603 449 435 692  76 405 531 568 707 170 659  63 869 643 122 704\n",
      "[109] 427 563 948  42 211 754 116  12 224 136 250 734 253 277 792 922 182 459\n",
      "[127] 785 408 550 466 955 610 530 611 434 464 129 218 290 674 957 784 247 224\n",
      "[145] 964 217 374 469 458 323 152  55 701 707 985 634 220 480 974 873 959 718\n",
      "[163] 416 143 325 592 809 990 554 557 204 812 546 784 837 416  92 884  70 708\n",
      "[181] 965 974 228 280 689 992 685 313 541 246 119 493 377  92  49 273 906 749\n",
      "[199]  62 312\n",
      "  [1]  12  16  26  33  33  41  42  49  55  62  63  70  76  77  81  87  92  92\n",
      " [19] 104 116 119 119 122 129 136 139 142 143 143 152 160 166 167 167 170 182\n",
      " [37] 185 202 204 204 207 211 217 218 220 221 224 224 228 231 236 246 247 250\n",
      " [55] 253 257 265 273 277 280 288 290 312 313 323 325 329 330 341 347 371 374\n",
      " [73] 377 398 405 408 415 416 416 426 427 434 435 435 449 458 458 459 460 464\n",
      " [91] 466 469 480 482 493 494 498 499 499 524 530 531 535 537 541 546 549 550\n",
      "[109] 554 554 557 561 563 568 570 592 603 606 610 611 611 622 634 635 643 654\n",
      "[127] 659 666 671 673 674 674 685 689 692 698 700 701 702 704 705 707 707 708\n",
      "[145] 709 718 727 731 734 748 749 750 754 784 784 785 790 792 809 812 820 821\n",
      "[163] 833 837 837 842 846 853 855 862 869 873 878 884 885 903 906 907 911 922\n",
      "[181] 926 934 944 948 949 949 955 955 957 959 964 965 974 974 975 985 985 987\n",
      "[199] 990 992\n"
     ]
    }
   ],
   "source": [
    "vector = round(runif(200, 0, 1000))\n",
    "print(vector)\n",
    "print(mergesort(vector))"
   ]
  },
  {
   "cell_type": "code",
   "execution_count": 12,
   "metadata": {
    "collapsed": false
   },
   "outputs": [
    {
     "name": "stdout",
     "output_type": "stream",
     "text": [
      "   user  system elapsed \n",
      "  0.010   0.000   0.011 \n",
      "   user  system elapsed \n",
      "  0.001   0.000   0.000 \n"
     ]
    }
   ],
   "source": [
    "print(system.time(mergesort(vector)))\n",
    "print(system.time(sort(vector)))"
   ]
  },
  {
   "cell_type": "markdown",
   "metadata": {
    "collapsed": true
   },
   "source": [
    "###  &#x1F4D1; &nbsp; Maps"
   ]
  },
  {
   "cell_type": "code",
   "execution_count": null,
   "metadata": {
    "collapsed": true
   },
   "outputs": [],
   "source": []
  },
  {
   "cell_type": "code",
   "execution_count": null,
   "metadata": {
    "collapsed": true
   },
   "outputs": [],
   "source": []
  },
  {
   "cell_type": "markdown",
   "metadata": {},
   "source": [
    "###  &#x1F4D1; &nbsp; Plots"
   ]
  },
  {
   "cell_type": "code",
   "execution_count": null,
   "metadata": {
    "collapsed": false
   },
   "outputs": [],
   "source": []
  },
  {
   "cell_type": "code",
   "execution_count": null,
   "metadata": {
    "collapsed": true
   },
   "outputs": [],
   "source": []
  },
  {
   "cell_type": "markdown",
   "metadata": {},
   "source": [
    "###  &#x1F4D1; &nbsp; Graphs"
   ]
  },
  {
   "cell_type": "code",
   "execution_count": null,
   "metadata": {
    "collapsed": true
   },
   "outputs": [],
   "source": []
  },
  {
   "cell_type": "code",
   "execution_count": null,
   "metadata": {
    "collapsed": true
   },
   "outputs": [],
   "source": []
  },
  {
   "cell_type": "markdown",
   "metadata": {},
   "source": [
    "###  &#x1F4D1; &nbsp; Maths"
   ]
  },
  {
   "cell_type": "code",
   "execution_count": 22,
   "metadata": {
    "collapsed": false
   },
   "outputs": [],
   "source": [
    "a <- 0\n",
    "b <- 0\n",
    "c <- 0\n",
    "s <- 1000000\n",
    "found <- FALSE\n",
    "for (a in 1:floor((s/3))) {\n",
    "    for (b in a:(s/2)) {\n",
    "        c <- s - a - b\n",
    "        if (a^3 + b^3 == c^3) {\n",
    "            found <- TRUE\n",
    "            break\n",
    "        }\n",
    "    }\n",
    "    if (found) \n",
    "        break\n",
    "}\n",
    "ternary <- c(a,b,c)\n",
    "answer <- a * b * c"
   ]
  },
  {
   "cell_type": "code",
   "execution_count": 23,
   "metadata": {
    "collapsed": false
   },
   "outputs": [
    {
     "data": {
      "text/html": [
       "<ol class=list-inline>\n",
       "\t<li>2</li>\n",
       "\t<li>499999</li>\n",
       "\t<li>499999</li>\n",
       "</ol>\n"
      ],
      "text/latex": [
       "\\begin{enumerate*}\n",
       "\\item 2\n",
       "\\item 499999\n",
       "\\item 499999\n",
       "\\end{enumerate*}\n"
      ],
      "text/markdown": [
       "1. 2\n",
       "2. 499999\n",
       "3. 499999\n",
       "\n",
       "\n"
      ],
      "text/plain": [
       "[1]      2 499999 499999"
      ]
     },
     "metadata": {},
     "output_type": "display_data"
    }
   ],
   "source": [
    "ternary"
   ]
  },
  {
   "cell_type": "code",
   "execution_count": 24,
   "metadata": {
    "collapsed": false
   },
   "outputs": [
    {
     "data": {
      "text/html": [
       "499998000002"
      ],
      "text/latex": [
       "499998000002"
      ],
      "text/markdown": [
       "499998000002"
      ],
      "text/plain": [
       "[1] 4.99998e+11"
      ]
     },
     "metadata": {},
     "output_type": "display_data"
    }
   ],
   "source": [
    "answer"
   ]
  },
  {
   "cell_type": "code",
   "execution_count": null,
   "metadata": {
    "collapsed": true
   },
   "outputs": [],
   "source": []
  }
 ],
 "metadata": {
  "anaconda-cloud": {},
  "hide_input": false,
  "kernelspec": {
   "display_name": "R 3.3",
   "language": "R",
   "name": "ir33"
  },
  "language_info": {
   "codemirror_mode": "r",
   "file_extension": ".r",
   "mimetype": "text/x-r-source",
   "name": "R",
   "pygments_lexer": "r",
   "version": "3.3.2"
  },
  "latex_envs": {
   "bibliofile": "biblio.bib",
   "cite_by": "apalike",
   "current_citInitial": 1,
   "eqLabelWithNumbers": true,
   "eqNumInitial": 0
  }
 },
 "nbformat": 4,
 "nbformat_minor": 0
}
