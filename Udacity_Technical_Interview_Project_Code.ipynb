{
 "cells": [
  {
   "cell_type": "code",
   "execution_count": 1,
   "metadata": {
    "collapsed": true
   },
   "outputs": [],
   "source": [
    "# SOLUTION 1\n",
    "import numpy as np\n",
    "def question1(s, t):\n",
    "    (result, indices) = (True, [])\n",
    "    \n",
    "    for element in list(t):\n",
    "        boolean = element in (list(s))\n",
    "        if boolean == False: \n",
    "            (result, indices) = (False,[])\n",
    "        else:\n",
    "            indices.append(list(s).index(element))\n",
    "            result = np.logical_and(result, boolean)\n",
    "    \n",
    "    if (result == True) & (sum(map(abs, np.diff(indices))) == len(indices) - 1):\n",
    "        return True\n",
    "    else: return False"
   ]
  },
  {
   "cell_type": "code",
   "execution_count": 3,
   "metadata": {
    "collapsed": false
   },
   "outputs": [
    {
     "name": "stdout",
     "output_type": "stream",
     "text": [
      "cit in udacity : True\n",
      "ad in udacity : True\n",
      "mod in udacity : False\n"
     ]
    }
   ],
   "source": [
    "# TEST 1\n",
    "s = \"udacity\"\n",
    "t = [\"cit\", \"ad\", \"mod\"]\n",
    "for el in t:\n",
    "    print (el + \" in \" + s + \" : \" + str(question1(s, el)))"
   ]
  },
  {
   "cell_type": "code",
   "execution_count": 4,
   "metadata": {
    "collapsed": true
   },
   "outputs": [],
   "source": [
    "# SOLUTION 2\n",
    "def question2(a):\n",
    "    result = search_palindrome_in(a)\n",
    "    if (len(list(a)) == 0):        \n",
    "        return '' \n",
    "    elif (len(list(a)) == 1) | (result == []):\n",
    "        if 'a' in list(a):\n",
    "            return 'a'\n",
    "        else:\n",
    "            return None\n",
    "    else:\n",
    "        max_length = max(len(s) for s in result)\n",
    "        longest_result = [s for s in result if len(s) == max_length]\n",
    "        return longest_result[0]\n",
    "    \n",
    "def is_palindrome(string):\n",
    "    if string == \"\":\n",
    "        return True\n",
    "    else:\n",
    "        if string[0] == string[-1]:\n",
    "            return is_palindrome(string[1:-1])\n",
    "        else:\n",
    "            return False\n",
    "        \n",
    "def substrings(string):\n",
    "    for n in range(2, len(string)):\n",
    "        for start in range(0, len(string)-n+1):\n",
    "            yield string[start:start+n]\n",
    "\n",
    "def search_palindrome_in(string):\n",
    "    palindromes = []\n",
    "    parts = substrings(string)\n",
    "    for element in parts:\n",
    "        if is_palindrome(element):\n",
    "            palindromes.append(element)\n",
    "    if is_palindrome(string):\n",
    "        palindromes.append(string)\n",
    "    return palindromes"
   ]
  },
  {
   "cell_type": "code",
   "execution_count": 5,
   "metadata": {
    "collapsed": false
   },
   "outputs": [
    {
     "name": "stdout",
     "output_type": "stream",
     "text": [
      "[]\n",
      "[]\n",
      "['']\n",
      "\n",
      "['t', 'e', 's', 't']\n",
      "['te', 'es', 'st', 'tes', 'est']\n",
      "[]\n",
      "None\n",
      "['m', 'a', 'r', 't']\n",
      "['ma', 'ar', 'rt', 'mar', 'art']\n",
      "[]\n",
      "a\n",
      "['l', 'e', 't', 't', 'e', 'r']\n",
      "['le', 'et', 'tt', 'te', 'er', 'let', 'ett', 'tte', 'ter', 'lett', 'ette', 'tter', 'lette', 'etter']\n",
      "['tt', 'ette']\n",
      "ette\n",
      "['p', 'a', 'r', 'a', 'l', 'l', 'e', 'l', 'o', 'g', 'r', 'a', 'm']\n",
      "['pa', 'ar', 'ra', 'al', 'll', 'le', 'el', 'lo', 'og', 'gr', 'ra', 'am', 'par', 'ara', 'ral', 'all', 'lle', 'lel', 'elo', 'log', 'ogr', 'gra', 'ram', 'para', 'aral', 'rall', 'alle', 'llel', 'lelo', 'elog', 'logr', 'ogra', 'gram', 'paral', 'arall', 'ralle', 'allel', 'llelo', 'lelog', 'elogr', 'logra', 'ogram', 'parall', 'aralle', 'rallel', 'allelo', 'llelog', 'lelogr', 'elogra', 'logram', 'paralle', 'arallel', 'rallelo', 'allelog', 'llelogr', 'lelogra', 'elogram', 'parallel', 'arallelo', 'rallelog', 'allelogr', 'llelogra', 'lelogram', 'parallelo', 'arallelog', 'rallelogr', 'allelogra', 'llelogram', 'parallelog', 'arallelogr', 'rallelogra', 'allelogram', 'parallelogr', 'arallelogra', 'rallelogram', 'parallelogra', 'arallelogram']\n",
      "['ll', 'ara', 'lel']\n",
      "ara\n",
      "['r', 'a', 'd', 'a', 'r', 'r', 'o', 't', 'a', 't', 'o', 'r']\n",
      "['ra', 'ad', 'da', 'ar', 'rr', 'ro', 'ot', 'ta', 'at', 'to', 'or', 'rad', 'ada', 'dar', 'arr', 'rro', 'rot', 'ota', 'tat', 'ato', 'tor', 'rada', 'adar', 'darr', 'arro', 'rrot', 'rota', 'otat', 'tato', 'ator', 'radar', 'adarr', 'darro', 'arrot', 'rrota', 'rotat', 'otato', 'tator', 'radarr', 'adarro', 'darrot', 'arrota', 'rrotat', 'rotato', 'otator', 'radarro', 'adarrot', 'darrota', 'arrotat', 'rrotato', 'rotator', 'radarrot', 'adarrota', 'darrotat', 'arrotato', 'rrotator', 'radarrota', 'adarrotat', 'darrotato', 'arrotator', 'radarrotat', 'adarrotato', 'darrotator', 'radarrotato', 'adarrotator']\n",
      "['rr', 'ada', 'tat', 'radar', 'otato', 'rotator']\n",
      "rotator\n"
     ]
    }
   ],
   "source": [
    "# TEST 2\n",
    "test_cases = ['', 'test', 'mart', 'letter', 'parallelogram', 'radarrotator']\n",
    "for test in test_cases:   \n",
    "    print (list(test))\n",
    "    print (list(substrings(test)))\n",
    "    print (search_palindrome_in(test))\n",
    "    print (question2(test))"
   ]
  },
  {
   "cell_type": "code",
   "execution_count": 6,
   "metadata": {
    "collapsed": true
   },
   "outputs": [],
   "source": [
    "# SOLUTION 3\n",
    "import networkx as nx\n",
    "from collections import OrderedDict\n",
    "def question3(G):\n",
    "    GW = create_wgraph(G)\n",
    "    MST = nx.minimum_spanning_tree(GW)\n",
    "    D = create_wdictionary(MST)\n",
    "    OD = OrderedDict(sorted(D.iteritems(), key=lambda t: t[0]))\n",
    "    return OD\n",
    "\n",
    "def create_wgraph(G):\n",
    "    W = nx.Graph()\n",
    "    for n, edges in G.iteritems():\n",
    "        for (u,v) in edges:\n",
    "            W.add_edge(n, u, weight=v)\n",
    "    return W\n",
    "\n",
    "def create_wdictionary(W):\n",
    "    D ={}\n",
    "    Ws = nx.get_edge_attributes(W,'weight')\n",
    "    for ((u,v), n) in Ws.iteritems():\n",
    "        D[u] = [(v, n)]\n",
    "    return D"
   ]
  },
  {
   "cell_type": "code",
   "execution_count": 7,
   "metadata": {
    "collapsed": false
   },
   "outputs": [
    {
     "name": "stdout",
     "output_type": "stream",
     "text": [
      "('TEST 3.0, GRAPH G', OrderedDict([('A', [('B', 2)]), ('C', [('B', 5)])]))\n",
      "('TEST 3.0, GRAPH G', OrderedDict([('A', [('B', 2)]), ('C', [('E', 5)]), ('E', [('F', 3)]), ('G', [('H', 8)])]))\n",
      "('TEST 3.1, GRAPH G1', OrderedDict([('A', [('B', 2)]), ('B', [('L', 4)]), ('C', [('E', 5)]), ('E', [('F', 3)]), ('G', [('I', 3)]), ('H', [('K', 5)]), ('I', [('N', 4)]), ('K', [('L', 3)]), ('M', [('L', 2)])]))\n"
     ]
    }
   ],
   "source": [
    "# TEST 3\n",
    "GE = {'A': [('B', 2)],\n",
    "      'B': [('A', 2), ('C', 5)], \n",
    "      'C': [('B', 5)]}\n",
    "print (\"TEST 3.0, GRAPH G\", question3(GE))\n",
    "G = {'A': [('B', 2), ('D', 6), ('G', 4), ('J', 3)],\n",
    "     'B': [('A', 2), ('C', 5)], \n",
    "     'C': [('B', 5), ('E', 5)],\n",
    "     'D': [('A', 6), ('E', 8)],\n",
    "     'E': [('C', 5), ('D', 8), ('F', 3)],\n",
    "     'F': [('E', 3), ('G', 7)],\n",
    "     'G': [('A', 4), ('F', 7), ('H', 8), ('I', 3)],\n",
    "     'H': [('G', 8)], \n",
    "     'I': [('G', 3), ('J', 7)],\n",
    "     'J': [('A', 3), ('I', 7)]}\n",
    "print (\"TEST 3.0, GRAPH G\", question3(G))\n",
    "G1 = {'A': [('B', 2), ('D', 6), ('G', 4), ('J', 3)],\n",
    "      'B': [('A', 2), ('C', 5), ('L', 4)], \n",
    "      'C': [('B', 5), ('E', 5), ('K', 8)],\n",
    "      'D': [('A', 6), ('E', 8)],\n",
    "      'E': [('C', 5), ('D', 8), ('F', 3)],\n",
    "      'F': [('E', 3), ('G', 7)],\n",
    "      'G': [('A', 4), ('F', 7), ('H', 8), ('I', 3)],\n",
    "      'H': [('G', 8), ('K', 5), ('O', 2)], \n",
    "      'I': [('G', 3), ('J', 7), ('N', 4)],\n",
    "      'J': [('A', 3), ('I', 7)],\n",
    "      'K': [('C', 8), ('H', 5), ('L', 3)],  \n",
    "      'L': [('B', 4), ('K', 3), ('M', 2)],\n",
    "      'M': [('L', 2), ('N', 7)],\n",
    "      'N': [('I', 4), ('M', 7), ('O', 5)],\n",
    "      'O': [('N', 5), ('H', 2)]}\n",
    "print (\"TEST 3.1, GRAPH G1\", question3(G1))"
   ]
  },
  {
   "cell_type": "code",
   "execution_count": 8,
   "metadata": {
    "collapsed": false
   },
   "outputs": [],
   "source": [
    "# SOLUTION 4\n",
    "import scipy as sp\n",
    "import pandas as pd\n",
    "def question4(T, node1, node2, root):\n",
    "    DF = create_df(T)\n",
    "    BTG = create_graph(DF)\n",
    "\n",
    "    if BTG != None:   \n",
    "        nodes = nx.dijkstra_path(BTG, node1, node2)\n",
    "    \n",
    "        shortest_paths_nodes = []\n",
    "        for element in nodes:\n",
    "            shortest_paths_nodes.append(nx.shortest_path(BTG, root, element))\n",
    "        \n",
    "        index = []\n",
    "        for path in shortest_paths_nodes:\n",
    "            index.append(len(path))\n",
    "        root_path_nodes = shortest_paths_nodes[min(index)]\n",
    "    \n",
    "        result = list(set(nodes) & set(root_path_nodes))\n",
    "        return result[0]\n",
    "    \n",
    "    else: \n",
    "        print (\"This graph is not a binary search tree\")\n",
    "        return None        \n",
    "    \n",
    "def create_df(T):\n",
    "    BT = np.matrix(T)\n",
    "    sparse = sp.sparse.coo_matrix(BT, dtype=np.int32)\n",
    "    nodes = range(BT.shape[0])\n",
    "    DF = pd.DataFrame(sparse.toarray(), index=nodes, columns=nodes)\n",
    "    return DF\n",
    "    \n",
    "def create_graph(DF):\n",
    "    BTG = nx.Graph()\n",
    "    BTG.add_nodes_from(list(DF.index))\n",
    "    for i in range(DF.shape[0]):\n",
    "        column_label = DF.columns[i]\n",
    "        for j in range(DF.shape[1]):\n",
    "            row_label = DF.index[j]\n",
    "            node = DF.iloc[i,j]\n",
    "            if node == 1:\n",
    "                BTG.add_edge(column_label,row_label)\n",
    "    if nx.is_tree(BTG):\n",
    "        return BTG\n",
    "    else:\n",
    "        return None"
   ]
  },
  {
   "cell_type": "code",
   "execution_count": 9,
   "metadata": {
    "collapsed": false
   },
   "outputs": [
    {
     "name": "stdout",
     "output_type": "stream",
     "text": [
      "This graph is not a binary search tree\n",
      "('T0', None)\n",
      "('The least common ancestor between 12 and 14 for T (root 0)', 2)\n",
      "('The least common ancestor between 2 and 4 for T1 (root 0)', 0)\n"
     ]
    }
   ],
   "source": [
    "# TEST 4\n",
    "T0 = [[0, 0, 0, 0, 0],\n",
    "      [0, 0, 0, 0, 0],\n",
    "      [0, 0, 0, 0, 0],\n",
    "      [0, 0, 0, 0, 0],\n",
    "      [0, 0, 0, 0, 0]]\n",
    "print(\"T0\", question4(T0, 2, 4, 0))\n",
    "T = [[0, 1, 1, 0, 0, 0, 0, 0, 0, 0, 0, 0, 0, 0, 0],\n",
    "     [1, 0, 0, 1, 1, 0, 0, 0, 0, 0, 0, 0, 0, 0, 0],\n",
    "     [1, 0, 0, 0, 0, 1, 1, 0, 0, 0, 0, 0, 0, 0, 0],\n",
    "     [0, 1, 0, 0, 0, 0, 0, 1, 1, 0, 0, 0, 0, 0, 0],\n",
    "     [0, 1, 0, 0, 0, 0, 0, 0, 0, 1, 1, 0, 0, 0, 0],\n",
    "     [0, 0, 1, 0, 0, 0, 0, 0, 0, 0, 0, 1, 1, 0, 0],\n",
    "     [0, 0, 1, 0, 0, 0, 0, 0, 0, 0, 0, 0, 0, 1, 1],\n",
    "     [0, 0, 0, 1, 0, 0, 0, 0, 0, 0, 0, 0, 0, 0, 0],\n",
    "     [0, 0, 0, 1, 0, 0, 0, 0, 0, 0, 0, 0, 0, 0, 0],\n",
    "     [0, 0, 0, 0, 1, 0, 0, 0, 0, 0, 0, 0, 0, 0, 0],\n",
    "     [0, 0, 0, 0, 1, 0, 0, 0, 0, 0, 0, 0, 0, 0, 0],\n",
    "     [0, 0, 0, 0, 0, 1, 0, 0, 0, 0, 0, 0, 0, 0, 0],\n",
    "     [0, 0, 0, 0, 0, 1, 0, 0, 0, 0, 0, 0, 0, 0, 0],\n",
    "     [0, 0, 0, 0, 0, 0, 1, 0, 0, 0, 0, 0, 0, 0, 0],\n",
    "     [0, 0, 0, 0, 0, 0, 1, 0, 0, 0, 0, 0, 0, 0, 0]]\n",
    "print('The least common ancestor between 12 and 14 for T (root 0)', question4(T, 12, 14, 0))\n",
    "T1 = [[0, 1, 1, 0, 0, 0, 0],\n",
    "      [1, 0, 0, 1, 1, 0, 0],\n",
    "      [1, 0, 0, 0, 0, 1, 1],\n",
    "      [0, 1, 0, 0, 0, 0, 0],\n",
    "      [0, 1, 0, 0, 0, 0, 0],\n",
    "      [0, 0, 1, 0, 0, 0, 0],\n",
    "      [0, 0, 1, 0, 0, 0, 0]]     \n",
    "print('The least common ancestor between 2 and 4 for T1 (root 0)', question4(T1, 2, 4, 0))"
   ]
  },
  {
   "cell_type": "code",
   "execution_count": 10,
   "metadata": {
    "collapsed": true
   },
   "outputs": [],
   "source": [
    "# SOLUTION 5\n",
    "def question5(l, m):\n",
    "    ll = create_linked_list(l)\n",
    "    return ll.getItemLeft(m)\n",
    "\n",
    "def create_linked_list(L):\n",
    "    linked_list = LinkedList()\n",
    "    for el in L:\n",
    "        linked_list.add(el)\n",
    "    return linked_list\n",
    "\n",
    "class Node:\n",
    "    def __init__(self, data):\n",
    "        self.data = data\n",
    "        self.next = None\n",
    "        \n",
    "    def __repr__(self):\n",
    "        return str(self.data)\n",
    "\n",
    "class LinkedList:\n",
    "    def __init__(self):\n",
    "        self.head = None\n",
    "        \n",
    "    def add(self, data):\n",
    "        new_node = Node(data)\n",
    "        if self.head == None:\n",
    "            self.head = new_node\n",
    "        else:\n",
    "            current_node = self.head\n",
    "            while current_node.next:\n",
    "                current_node = current_node.next\n",
    "            current_node.next = new_node\n",
    "        \n",
    "    def getLength(self):\n",
    "        current = self.head\n",
    "        count = 1\n",
    "        while current.next != None:\n",
    "            count += 1\n",
    "            current = current.next\n",
    "        return count\n",
    "    \n",
    "    def getIndex(self, data):\n",
    "        current_node = self.head        \n",
    "        index = 1\n",
    "        while current_node.next:\n",
    "            if current_node.data == data:\n",
    "                break\n",
    "            else:     \n",
    "                current_node = current_node.next\n",
    "                index += 1\n",
    "        if (index == self.getLength()) & (current_node.data != data):\n",
    "            print (\"This item is not in the list\")\n",
    "            return None\n",
    "        return index\n",
    "    \n",
    "    def getIndexLeft(self, data):\n",
    "        if self.getIndex(data) == None:\n",
    "            return None\n",
    "        else: \n",
    "            pos = int(self.getIndex(data))\n",
    "            end = int(self.getLength())\n",
    "            return end - pos + 1\n",
    "    \n",
    "    def getItem(self, position):\n",
    "        if position > self.getLength():\n",
    "            print (\"This index is out of the list range\")\n",
    "            return None\n",
    "        else:\n",
    "            current_node = self.head\n",
    "            while (current_node.next != None):\n",
    "                if self.getIndex(current_node.data) == position:\n",
    "                    break\n",
    "                else:\n",
    "                    current_node = current_node.next\n",
    "            return current_node.data\n",
    "        \n",
    "    def getItemLeft(self, position):\n",
    "        if position > self.getLength():\n",
    "            print (\"This index is out of the list range\")\n",
    "            return None\n",
    "        else:\n",
    "            end = int(self.getLength())\n",
    "            pos = end - position + 1\n",
    "            return self.getItem(pos)"
   ]
  },
  {
   "cell_type": "code",
   "execution_count": 11,
   "metadata": {
    "collapsed": false
   },
   "outputs": [
    {
     "name": "stdout",
     "output_type": "stream",
     "text": [
      "fff\n",
      "This index is out of the list range\n",
      "None\n",
      "4\n",
      "This index is out of the list range\n",
      "None\n"
     ]
    }
   ],
   "source": [
    "# TEST 5\n",
    "print (question5(['aaa', 'bbb', 'ccc', 'ddd', 'eee', 'fff', 'ggg', 'hhh'], 3))\n",
    "print (question5(['aaa', 'bbb', 'ccc', 'ddd', 'eee', 'fff', 'ggg', 'hhh'], 20))   \n",
    "print (question5([0, 1, 2, 3, 4, 5, 6, 7, 8, 9, 10, 11], 8))\n",
    "print (question5([0, 1, 2, 3, 4, 5, 6, 7, 8, 9, 10, 11], 100))"
   ]
  }
 ],
 "metadata": {
  "anaconda-cloud": {},
  "hide_input": false,
  "kernelspec": {
   "display_name": "Python 2",
   "language": "python",
   "name": "python2"
  },
  "language_info": {
   "codemirror_mode": {
    "name": "ipython",
    "version": 2
   },
   "file_extension": ".py",
   "mimetype": "text/x-python",
   "name": "python",
   "nbconvert_exporter": "python",
   "pygments_lexer": "ipython2",
   "version": "2.7.13"
  },
  "latex_envs": {
   "bibliofile": "biblio.bib",
   "cite_by": "apalike",
   "current_citInitial": 1,
   "eqLabelWithNumbers": true,
   "eqNumInitial": 0
  }
 },
 "nbformat": 4,
 "nbformat_minor": 0
}
