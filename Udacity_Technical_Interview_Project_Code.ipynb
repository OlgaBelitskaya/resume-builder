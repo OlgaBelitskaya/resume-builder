{
 "cells": [
  {
   "cell_type": "code",
   "execution_count": 3,
   "metadata": {
    "collapsed": true
   },
   "outputs": [],
   "source": [
    "# SOLUTION 1\n",
    "import numpy as np\n",
    "def question1(s, t):\n",
    "    result = True\n",
    "    for element in list(t):\n",
    "        boolean = element in list(s)\n",
    "#        print (boolean)\n",
    "        result = np.logical_and(result, boolean)\n",
    "    return result"
   ]
  },
  {
   "cell_type": "code",
   "execution_count": 4,
   "metadata": {
    "collapsed": false
   },
   "outputs": [
    {
     "name": "stdout",
     "output_type": "stream",
     "text": [
      "('cit', 'in', 'udacity', ':', True)\n",
      "('ad', 'in', 'udacity', ':', True)\n",
      "('mod', 'in', 'udacity', ':', False)\n"
     ]
    }
   ],
   "source": [
    "# TEST 1\n",
    "s = \"udacity\"\n",
    "t = [\"cit\", \"ad\", \"mod\"]\n",
    "for el in t:\n",
    "    print (el, \"in\", s, \":\", question1(s, el))"
   ]
  },
  {
   "cell_type": "code",
   "execution_count": 5,
   "metadata": {
    "collapsed": true
   },
   "outputs": [],
   "source": [
    "# SOLUTION 2\n",
    "def question2(a):\n",
    "    result = search_palindrome_in(a)\n",
    "    if (len(list(a)) == 0):        \n",
    "        return '' \n",
    "    elif (len(list(a)) == 1) | (result == []):\n",
    "        if 'a' in list(a):\n",
    "            return 'a'\n",
    "        else:\n",
    "            return None\n",
    "    else:\n",
    "        max_length = max(len(s) for s in result)\n",
    "        longest_result = [s for s in result if len(s) == max_length]\n",
    "        return longest_result[0]\n",
    "\n",
    "def search_palindrome_in(string):\n",
    "    palindromes = []\n",
    "    cuts = cut_collection(string)\n",
    "    for element in cuts:\n",
    "        substrings = sub_collection(element)\n",
    "        for el in substrings:\n",
    "            if is_palindrome(el):\n",
    "                palindromes.append(el)\n",
    "    return palindromes\n",
    "    \n",
    "def is_palindrome(string):\n",
    "    if string == \"\":\n",
    "        return True\n",
    "    else:\n",
    "        if string[0] == string[-1]:\n",
    "            return is_palindrome(string[1:-1])\n",
    "        else:\n",
    "            return False\n",
    "        \n",
    "def sub_collection(string):\n",
    "    sub_string = list(string)\n",
    "    sub_collection = []\n",
    "    for i in range(len(sub_string)+1):\n",
    "        join_string = \"\".join(sub_string[:i])\n",
    "        sub_collection.append(join_string )   \n",
    "    sub_collection = sub_collection[2:len(sub_string)+1]\n",
    "    return sub_collection     \n",
    "\n",
    "def cut_collection(string):\n",
    "    cut_collection = []\n",
    "    current = string\n",
    "    for i in range(len(list(string))+1):\n",
    "        cut_collection.append(current)\n",
    "        cut_string = current[1:]\n",
    "        current = cut_string\n",
    "    cut_collection = cut_collection[:len(list(string))-1]\n",
    "    return cut_collection"
   ]
  },
  {
   "cell_type": "code",
   "execution_count": 6,
   "metadata": {
    "collapsed": false
   },
   "outputs": [
    {
     "name": "stdout",
     "output_type": "stream",
     "text": [
      "\n",
      "None\n",
      "a\n",
      "ette\n",
      "ara\n",
      "rotator\n"
     ]
    }
   ],
   "source": [
    "# TEST 2\n",
    "test_cases = ['', 'test', 'mart', 'letter', 'parallelogram', 'radarrotator']\n",
    "for test in test_cases:   \n",
    "#    print (list(test))\n",
    "#    print (string_collection(test))\n",
    "#    print (cut_collection(test))\n",
    "#    print (search_palindrome_in(test))\n",
    "    print (question2(test))"
   ]
  },
  {
   "cell_type": "code",
   "execution_count": 7,
   "metadata": {
    "collapsed": true
   },
   "outputs": [],
   "source": [
    "# SOLUTION 3\n",
    "import networkx as nx\n",
    "from collections import OrderedDict\n",
    "def question3(G):\n",
    "    GW = create_wgraph(G)\n",
    "    MST = nx.minimum_spanning_tree(GW)\n",
    "    D = create_wdictionary(MST)\n",
    "    OD = OrderedDict(sorted(D.iteritems(), key=lambda t: t[0]))\n",
    "    return OD\n",
    "\n",
    "def create_wgraph(G):\n",
    "    W = nx.Graph()\n",
    "    for n, edges in G.iteritems():\n",
    "        for (u,v) in edges:\n",
    "            W.add_edge(n, u, weight=v)\n",
    "    return W\n",
    "\n",
    "def create_wdictionary(W):\n",
    "    D ={}\n",
    "    Ws = nx.get_edge_attributes(W,'weight')\n",
    "    for ((u,v), n) in Ws.iteritems():\n",
    "        D[u] = [(v, n)]\n",
    "    return D"
   ]
  },
  {
   "cell_type": "code",
   "execution_count": 8,
   "metadata": {
    "collapsed": false
   },
   "outputs": [
    {
     "name": "stdout",
     "output_type": "stream",
     "text": [
      "OrderedDict([('A', [('B', 2)]), ('C', [('E', 5)]), ('E', [('F', 3)]), ('G', [('H', 8)])])\n"
     ]
    }
   ],
   "source": [
    "# TEST 3\n",
    "G = {'A': [('B', 2), ('D', 6), ('G', 4), ('J', 3)],\n",
    "     'B': [('A', 2), ('C', 5)], \n",
    "     'C': [('B', 5), ('E', 5)],\n",
    "     'D': [('A', 6), ('E', 8)],\n",
    "     'E': [('C', 5), ('D', 8), ('F', 3)],\n",
    "     'F': [('E', 3), ('G', 7)],\n",
    "     'G': [('A', 4), ('F', 7), ('H', 8), ('I', 3)],\n",
    "     'H': [('G', 8)], \n",
    "     'I': [('G', 3), ('J', 7)],\n",
    "     'J': [('A', 3), ('I', 7)]}\n",
    "W = create_wgraph(G)\n",
    "# print (W)\n",
    "# print (create_wdictionary(W))\n",
    "print (question3(G))"
   ]
  },
  {
   "cell_type": "code",
   "execution_count": 11,
   "metadata": {
    "collapsed": false
   },
   "outputs": [],
   "source": [
    "# SOLUTION 4\n",
    "import scipy as sp\n",
    "import pandas as pd\n",
    "def question4(T, node1, node2, root):\n",
    "    DF = create_df(T)\n",
    "    BTG = create_graph(DF)\n",
    "\n",
    "    if BTG != None:   \n",
    "        nodes = nx.dijkstra_path(BTG, node1, node2)\n",
    "    \n",
    "        shortest_paths_nodes = []\n",
    "        for element in nodes:\n",
    "            shortest_paths_nodes.append(nx.shortest_path(BTG, root, element))\n",
    "        \n",
    "        index = []\n",
    "        for path in shortest_paths_nodes:\n",
    "            index.append(len(path))\n",
    "        root_path_nodes = shortest_paths_nodes[min(index)]\n",
    "    \n",
    "        result = list(set(nodes) & set(root_path_nodes))\n",
    "        return result[0]\n",
    "    \n",
    "    else: \n",
    "        print (\"This graph is not a binary search tree\")\n",
    "        return None        \n",
    "    \n",
    "def create_df(T):\n",
    "    BT = np.matrix(T)\n",
    "    sparse = sp.sparse.coo_matrix(BT, dtype=np.int32)\n",
    "    nodes = range(BT.shape[0])\n",
    "    DF = pd.DataFrame(sparse.toarray(), index=nodes, columns=nodes)\n",
    "    return DF\n",
    "    \n",
    "def create_graph(DF):\n",
    "    BTG = nx.Graph()\n",
    "    BTG.add_nodes_from(list(DF.index))\n",
    "    for i in range(DF.shape[0]):\n",
    "        column_label = DF.columns[i]\n",
    "        for j in range(DF.shape[1]):\n",
    "            row_label = DF.index[j]\n",
    "            node = DF.iloc[i,j]\n",
    "            if node == 1:\n",
    "                BTG.add_edge(column_label,row_label)\n",
    "    if nx.is_tree(BTG):\n",
    "        return BTG\n",
    "    else:\n",
    "        return None"
   ]
  },
  {
   "cell_type": "code",
   "execution_count": 12,
   "metadata": {
    "collapsed": false
   },
   "outputs": [
    {
     "data": {
      "text/plain": [
       "2"
      ]
     },
     "execution_count": 12,
     "metadata": {},
     "output_type": "execute_result"
    }
   ],
   "source": [
    "# TEST 4\n",
    "T = [[0, 1, 1, 0, 0, 0, 0, 0, 0, 0, 0, 0, 0, 0, 0],\n",
    "     [1, 0, 0, 1, 1, 0, 0, 0, 0, 0, 0, 0, 0, 0, 0],\n",
    "     [1, 0, 0, 0, 0, 1, 1, 0, 0, 0, 0, 0, 0, 0, 0],\n",
    "     [0, 1, 0, 0, 0, 0, 0, 1, 1, 0, 0, 0, 0, 0, 0],\n",
    "     [0, 1, 0, 0, 0, 0, 0, 0, 0, 1, 1, 0, 0, 0, 0],\n",
    "     [0, 0, 1, 0, 0, 0, 0, 0, 0, 0, 0, 1, 1, 0, 0],\n",
    "     [0, 0, 1, 0, 0, 0, 0, 0, 0, 0, 0, 0, 0, 1, 1],\n",
    "     [0, 0, 0, 1, 0, 0, 0, 0, 0, 0, 0, 0, 0, 0, 0],\n",
    "     [0, 0, 0, 1, 0, 0, 0, 0, 0, 0, 0, 0, 0, 0, 0],\n",
    "     [0, 0, 0, 0, 1, 0, 0, 0, 0, 0, 0, 0, 0, 0, 0],\n",
    "     [0, 0, 0, 0, 1, 0, 0, 0, 0, 0, 0, 0, 0, 0, 0],\n",
    "     [0, 0, 0, 0, 0, 1, 0, 0, 0, 0, 0, 0, 0, 0, 0],\n",
    "     [0, 0, 0, 0, 0, 1, 0, 0, 0, 0, 0, 0, 0, 0, 0],\n",
    "     [0, 0, 0, 0, 0, 0, 1, 0, 0, 0, 0, 0, 0, 0, 0],\n",
    "     [0, 0, 0, 0, 0, 0, 1, 0, 0, 0, 0, 0, 0, 0, 0]]\n",
    "node1, node2, root = (12, 14, 0)\n",
    "question4(T, 12, 14, 0)"
   ]
  },
  {
   "cell_type": "code",
   "execution_count": 17,
   "metadata": {
    "collapsed": true
   },
   "outputs": [],
   "source": [
    "# SOLUTION 5\n"
   ]
  },
  {
   "cell_type": "code",
   "execution_count": 18,
   "metadata": {
    "collapsed": true
   },
   "outputs": [],
   "source": [
    "# TEST 5\n"
   ]
  },
  {
   "cell_type": "code",
   "execution_count": null,
   "metadata": {
    "collapsed": true
   },
   "outputs": [],
   "source": []
  }
 ],
 "metadata": {
  "kernelspec": {
   "display_name": "Python 2",
   "language": "python",
   "name": "python2"
  },
  "language_info": {
   "codemirror_mode": {
    "name": "ipython",
    "version": 2
   },
   "file_extension": ".py",
   "mimetype": "text/x-python",
   "name": "python",
   "nbconvert_exporter": "python",
   "pygments_lexer": "ipython2",
   "version": "2.7.13"
  },
  "latex_envs": {
   "bibliofile": "biblio.bib",
   "cite_by": "apalike",
   "current_citInitial": 1,
   "eqLabelWithNumbers": true,
   "eqNumInitial": 0
  }
 },
 "nbformat": 4,
 "nbformat_minor": 0
}
